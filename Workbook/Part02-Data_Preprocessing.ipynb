{
 "cells": [
  {
   "cell_type": "markdown",
   "metadata": {},
   "source": [
    "### Load Packages:"
   ]
  },
  {
   "cell_type": "code",
   "execution_count": 1,
   "metadata": {
    "collapsed": true
   },
   "outputs": [],
   "source": [
    "# Numpy will be used for Linear Algebra\n",
    "import numpy as np\n",
    "\n",
    "# Pandas will be used for DataFrames\n",
    "import pandas as pd\n",
    "# Display all Columns \n",
    "pd.set_option('display.max_columns', None)\n",
    "\n",
    "# Matplotlib for Visualization\n",
    "import matplotlib.pyplot as plt\n",
    "# Display plots in notebook\n",
    "%matplotlib inline\n",
    "\n",
    "# Seaborn for easier Visualization\n",
    "import seaborn as sns\n",
    "# Change color scheme\n",
    "sns.set_style(\"whitegrid\")\n",
    "\n",
    "# Sys for size of Dataset\n",
    "import sys"
   ]
  },
  {
   "cell_type": "markdown",
   "metadata": {},
   "source": [
    "## 1. Load the Data"
   ]
  },
  {
   "cell_type": "code",
   "execution_count": 2,
   "metadata": {
    "collapsed": true
   },
   "outputs": [],
   "source": [
    "# Load training set into a pandas DataFrame\n",
    "train = pd.read_csv('../Datasets/Ames_Training_Set.csv')\n",
    "\n",
    "# Load the testing set into a pandata DataFrame\n",
    "test = pd.read_csv(\"../Datasets/Ames_Testing_Set.csv\")"
   ]
  },
  {
   "cell_type": "markdown",
   "metadata": {},
   "source": [
    "## 2. Name the Target Variable"
   ]
  },
  {
   "cell_type": "code",
   "execution_count": 3,
   "metadata": {
    "collapsed": true
   },
   "outputs": [],
   "source": [
    "# Name the target variable\n",
    "target = train['SalePrice']\n",
    "\n",
    "# Create the log transformation of SalePrice\n",
    "target_log = np.log1p(train['SalePrice'])"
   ]
  },
  {
   "cell_type": "markdown",
   "metadata": {},
   "source": [
    "## 3. Concatenate train and test dataset"
   ]
  },
  {
   "cell_type": "code",
   "execution_count": 4,
   "metadata": {},
   "outputs": [
    {
     "name": "stdout",
     "output_type": "stream",
     "text": [
      "Train Shape: (2051, 82)\n",
      "Testing Shape: (879, 80)\n"
     ]
    }
   ],
   "source": [
    "# Check the size of both training and testing set\n",
    "print(\"Train Shape:\",train.shape)\n",
    "print(\"Testing Shape:\",test.shape)"
   ]
  },
  {
   "cell_type": "code",
   "execution_count": 5,
   "metadata": {
    "collapsed": true
   },
   "outputs": [],
   "source": [
    "# Concatenate datasets and input in a pandas DataFrame\n",
    "df = pd.concat([train,test],ignore_index=True)"
   ]
  },
  {
   "cell_type": "code",
   "execution_count": 6,
   "metadata": {
    "collapsed": true
   },
   "outputs": [],
   "source": [
    "# For df: Leave no space between feature names that contain two words\n",
    "df.columns = [x.replace(' ','') for x in df.columns]\n",
    "\n",
    "# For train: Leave no space between feature names that contain two words\n",
    "train.columns = [x.replace(' ','') for x in train.columns]\n",
    "\n",
    "# For test: Leave no space between feature names that contain two words\n",
    "test.columns = [x.replace(' ','') for x in test.columns]"
   ]
  },
  {
   "cell_type": "markdown",
   "metadata": {},
   "source": [
    "## 4. Missing Values"
   ]
  },
  {
   "cell_type": "code",
   "execution_count": 7,
   "metadata": {},
   "outputs": [
    {
     "data": {
      "text/plain": [
       "PoolQC           2917\n",
       "MiscFeature      2824\n",
       "Alley            2732\n",
       "Fence            2358\n",
       "FireplaceQu      1422\n",
       "SalePrice         879\n",
       "SaleCondition     879\n",
       "LotFrontage       490\n",
       "GarageYrBlt       159\n",
       "GarageFinish      159\n",
       "GarageCond        159\n",
       "GarageQual        159\n",
       "GarageType        157\n",
       "BsmtExposure       83\n",
       "BsmtFinType2       81\n",
       "BsmtCond           80\n",
       "BsmtQual           80\n",
       "BsmtFinType1       80\n",
       "MasVnrArea         23\n",
       "MasVnrType         23\n",
       "BsmtFullBath        2\n",
       "BsmtHalfBath        2\n",
       "GarageArea          1\n",
       "GarageCars          1\n",
       "BsmtFinSF2          1\n",
       "BsmtFinSF1          1\n",
       "Electrical          1\n",
       "TotalBsmtSF         1\n",
       "BsmtUnfSF           1\n",
       "dtype: int64"
      ]
     },
     "execution_count": 7,
     "metadata": {},
     "output_type": "execute_result"
    }
   ],
   "source": [
    "# Check total nulls of df in descending order\n",
    "df.isnull().sum().sort_values(ascending = False)[:29]"
   ]
  },
  {
   "cell_type": "code",
   "execution_count": 8,
   "metadata": {
    "collapsed": true
   },
   "outputs": [],
   "source": [
    "def percent_missing_data(data):\n",
    "    \"\"\"This function prints out the percentage of nulls with overall data\"\"\"\n",
    "    print(\"Percentage of missing data:\")\n",
    "    for col in data.columns:\n",
    "        missing = len(data) - data[col].count()\n",
    "        if (missing > 0 or missing == \"NAN\"):\n",
    "            print(col,\":\",missing,\"values missing which is\",str(round(float(missing/float(len(data)))*100,3)),\"% of total dataframe.\")"
   ]
  },
  {
   "cell_type": "code",
   "execution_count": 9,
   "metadata": {},
   "outputs": [
    {
     "name": "stdout",
     "output_type": "stream",
     "text": [
      "Percentage of missing data:\n",
      "Alley : 2732 values missing which is 93.242 % of total dataframe.\n",
      "BsmtCond : 80 values missing which is 2.73 % of total dataframe.\n",
      "BsmtExposure : 83 values missing which is 2.833 % of total dataframe.\n",
      "BsmtFullBath : 2 values missing which is 0.068 % of total dataframe.\n",
      "BsmtHalfBath : 2 values missing which is 0.068 % of total dataframe.\n",
      "BsmtQual : 80 values missing which is 2.73 % of total dataframe.\n",
      "BsmtUnfSF : 1 values missing which is 0.034 % of total dataframe.\n",
      "BsmtFinSF1 : 1 values missing which is 0.034 % of total dataframe.\n",
      "BsmtFinSF2 : 1 values missing which is 0.034 % of total dataframe.\n",
      "BsmtFinType1 : 80 values missing which is 2.73 % of total dataframe.\n",
      "BsmtFinType2 : 81 values missing which is 2.765 % of total dataframe.\n",
      "Electrical : 1 values missing which is 0.034 % of total dataframe.\n",
      "Fence : 2358 values missing which is 80.478 % of total dataframe.\n",
      "FireplaceQu : 1422 values missing which is 48.532 % of total dataframe.\n",
      "GarageArea : 1 values missing which is 0.034 % of total dataframe.\n",
      "GarageCars : 1 values missing which is 0.034 % of total dataframe.\n",
      "GarageCond : 159 values missing which is 5.427 % of total dataframe.\n",
      "GarageFinish : 159 values missing which is 5.427 % of total dataframe.\n",
      "GarageQual : 159 values missing which is 5.427 % of total dataframe.\n",
      "GarageType : 157 values missing which is 5.358 % of total dataframe.\n",
      "GarageYrBlt : 159 values missing which is 5.427 % of total dataframe.\n",
      "LotFrontage : 490 values missing which is 16.724 % of total dataframe.\n",
      "MasVnrArea : 23 values missing which is 0.785 % of total dataframe.\n",
      "MasVnrType : 23 values missing which is 0.785 % of total dataframe.\n",
      "MiscFeature : 2824 values missing which is 96.382 % of total dataframe.\n",
      "PoolQC : 2917 values missing which is 99.556 % of total dataframe.\n",
      "SaleCondition : 879 values missing which is 30.0 % of total dataframe.\n",
      "SalePrice : 879 values missing which is 30.0 % of total dataframe.\n",
      "TotalBsmtSF : 1 values missing which is 0.034 % of total dataframe.\n"
     ]
    }
   ],
   "source": [
    "percent_missing_data(df)"
   ]
  },
  {
   "cell_type": "markdown",
   "metadata": {},
   "source": [
    "## 5. Filterings"
   ]
  },
  {
   "cell_type": "markdown",
   "metadata": {},
   "source": [
    "#### Note: In this section I will filter out columns that have a common word. There will be no particular order into cleaning these columns but I will still add a heading as to what is being done for each column(s)."
   ]
  },
  {
   "cell_type": "markdown",
   "metadata": {},
   "source": [
    "#### Functions that will be used later on:"
   ]
  },
  {
   "cell_type": "code",
   "execution_count": 10,
   "metadata": {
    "collapsed": true
   },
   "outputs": [],
   "source": [
    "def column_filter(string):\n",
    "    \"\"\"This function filters out a dataframe with columns of selected string\n",
    "        string: Enter in this format 'selected_string'\"\"\"\n",
    "    return df[df.columns[(df.columns.to_series().str.contains(string))]]"
   ]
  },
  {
   "cell_type": "code",
   "execution_count": 11,
   "metadata": {
    "collapsed": true
   },
   "outputs": [],
   "source": [
    "def column_inspection(string):\n",
    "    \"\"\"This function prints out what is needed to inspect the given column of selected filtered string\n",
    "        string: Enter in this format 'selected_string'\"\"\"\n",
    "    print(\"Display part of DataFrame:\\n\")\n",
    "    print(column_filter(string).head(2))\n",
    "    print(\"==============================================================\")\n",
    "    print(\"Description:\\n\")\n",
    "    print(column_filter(string).describe())\n",
    "    print(\"==============================================================\")\n",
    "    print(\"Data Types:\\n\")\n",
    "    print(column_filter(string).dtypes)\n",
    "    print(\"==============================================================\")\n",
    "    print(\"Number of Null Values:\\n\")\n",
    "    print(column_filter(string).isnull().sum())\n",
    "    print(\"==============================================================\")"
   ]
  },
  {
   "cell_type": "code",
   "execution_count": 12,
   "metadata": {
    "collapsed": true
   },
   "outputs": [],
   "source": [
    "def column_correlation(string):\n",
    "    \"\"\"This function shows a heatmap of selected filtered columns\n",
    "        string: Enter in this format 'selected_string'\"\"\"\n",
    "    f,ax = plt.subplots(figsize =(12,12))  # Make figure size 12 x 12  \n",
    "    correlation_matrix = column_filter(string).corr() * 100  # Compute Correlation Matrix \n",
    "    cmap = sns.diverging_palette(220, 10, as_cmap=True) # Generate custom diverging colormap\n",
    "    mask = np.zeros_like(correlation_matrix,dtype=np.bool) # Generate a mask for upper triangle\n",
    "    mask[np.triu_indices_from(mask)] = True # Continue mask for upper triangle\n",
    "    img = sns.heatmap(correlation_matrix,vmax = .8,center=0, square = True,cmap = cmap,\n",
    "                annot = True,fmt='.0f',mask=mask, linewidths=.8,cbar_kws={\"shrink\":.5})  # Create the Heatmap\n",
    "    plt.suptitle(string, x=0.5, y=.98,ha='center', fontsize=30); # Title of Heatmap\n",
    "    fig = img.get_figure() # Grab each figure\n",
    "    fig.savefig(\"../Images/Heat_Plots/%s.jpg\"%str(string)) # Save each figure \n",
    "    plt.show()"
   ]
  },
  {
   "cell_type": "code",
   "execution_count": 13,
   "metadata": {
    "collapsed": true
   },
   "outputs": [],
   "source": [
    "def drop_redundants(data,redundants):\n",
    "    \"\"\"This function takes in a list of column names and drops them given a specific dataframe\n",
    "        data: Name of DataFrame\n",
    "        redundants: Enter in this format ['col_name1','col_name2','col_name3']\"\"\"\n",
    "    return data.drop(redundants,axis = 1,inplace = True)"
   ]
  },
  {
   "cell_type": "code",
   "execution_count": 14,
   "metadata": {
    "collapsed": true
   },
   "outputs": [],
   "source": [
    "def drop_rows(data,string):\n",
    "    \"\"\"This function will drop null rows of specific subset\n",
    "        data: Name of DataFrame\n",
    "        string: Enter in this format 'selected_string'\"\"\"\n",
    "    return data.dropna(axis = 0, subset = [string])"
   ]
  },
  {
   "cell_type": "code",
   "execution_count": 15,
   "metadata": {
    "collapsed": true
   },
   "outputs": [],
   "source": [
    "def shape_of_dataframe(data):\n",
    "    \"\"\"This function will print the shape of current DataFrame\n",
    "        data: Name of DataFrame\"\"\"\n",
    "    print(\"New shape of DataFrame:\",data.shape)"
   ]
  },
  {
   "cell_type": "code",
   "execution_count": 16,
   "metadata": {
    "collapsed": true
   },
   "outputs": [],
   "source": [
    "def loc_missing(data,string):\n",
    "    \"\"\"This function locates the nulls of specific column\n",
    "        data: Name of DataFrame\n",
    "        string: Enter in this format 'selected_string'\"\"\"\n",
    "    return data.loc[data[string].isnull()]"
   ]
  },
  {
   "cell_type": "code",
   "execution_count": 17,
   "metadata": {
    "collapsed": true
   },
   "outputs": [],
   "source": [
    "def percent_missing(data,string):\n",
    "    \"\"\"This function prints out the percentage of nulls with overall data given a specific column name/frame\n",
    "        data: Name of DataFrame\n",
    "        string: Enter in this format 'selected_string'\"\"\"\n",
    "    return round(data[string].isnull().sum() / data.shape[0] * 100, 3)"
   ]
  },
  {
   "cell_type": "code",
   "execution_count": 18,
   "metadata": {
    "collapsed": true
   },
   "outputs": [],
   "source": [
    "def fill_nulls(data,string):\n",
    "    \"\"\"This function will fill nulls with Na\n",
    "        data: Name of DataFrame\n",
    "        string: Enter in this format 'selected_string'\"\"\"\n",
    "    return data[string].fillna(\"Na\",inplace = True)"
   ]
  },
  {
   "cell_type": "code",
   "execution_count": 19,
   "metadata": {
    "collapsed": true
   },
   "outputs": [],
   "source": [
    "def view_unique_cat(string):\n",
    "    \"\"\"This functions prints out the unique values for the given string\n",
    "        string: Enter in this format 'selected_string'\"\"\"\n",
    "    print(df[string].unique())"
   ]
  },
  {
   "cell_type": "code",
   "execution_count": 20,
   "metadata": {
    "collapsed": true
   },
   "outputs": [],
   "source": [
    "def map_dictionary(data,string,dictionary):\n",
    "    \"\"\"This function maps the given dictionary for the given string in specific DF\n",
    "        data: Name of DataFrame\n",
    "        string: Enter in this format 'selected_string'\n",
    "        dictionary: Name of dictionary\"\"\"\n",
    "    data[string] = data[string].map(dictionary)\n",
    "    return data.head(1)"
   ]
  },
  {
   "cell_type": "code",
   "execution_count": 21,
   "metadata": {
    "collapsed": true
   },
   "outputs": [],
   "source": [
    "def box_plots(data,string):\n",
    "    \"\"\"This function will give a boxplot for the given DataFrame and string\n",
    "        data: Name of DataFrame\n",
    "        string: Enter in this format 'selected_string'\"\"\"\n",
    "    plt.figure(figsize=(12, 8))  # Figure size\n",
    "    sns.boxplot(data[string],palette='pastel'); # Type of plot\n",
    "    plt.xlabel(string, fontsize=18) # X-label\n",
    "    plt.savefig(\"../Images/Box_Plots/%s.jpg\"%str(string)) # Save each figure "
   ]
  },
  {
   "cell_type": "markdown",
   "metadata": {},
   "source": [
    "#### Dictionaries that will be used later on:"
   ]
  },
  {
   "cell_type": "code",
   "execution_count": 22,
   "metadata": {
    "collapsed": true
   },
   "outputs": [],
   "source": [
    "# Create a condition dictionary to apply to conditions and qualities\n",
    "condition_dict = {\n",
    "    'Ex': 5,\n",
    "    'Gd': 4,\n",
    "    'TA': 3,\n",
    "    'Fa': 2,\n",
    "    'Po': 1,\n",
    "    'Na': 0\n",
    "}"
   ]
  },
  {
   "cell_type": "code",
   "execution_count": 23,
   "metadata": {
    "collapsed": true
   },
   "outputs": [],
   "source": [
    "# Create a condition dictionary to apply to Finished or unfinished garage\n",
    "finished_dict = {\n",
    "    'Fin': 1,\n",
    "    'Unf': 0,\n",
    "    'Na': 0,\n",
    "    'RFn': 0\n",
    "}"
   ]
  },
  {
   "cell_type": "code",
   "execution_count": 24,
   "metadata": {
    "collapsed": true
   },
   "outputs": [],
   "source": [
    "# Create an exposure dictionary with 4 representing good and 1 No exposure, 0 to No basement\n",
    "exposure_dict = {\n",
    "    'Gd': 4,\n",
    "    'Av': 3,\n",
    "    'Mn': 2,\n",
    "    'No': 1,\n",
    "    'Na': 0\n",
    "}"
   ]
  },
  {
   "cell_type": "code",
   "execution_count": 25,
   "metadata": {
    "collapsed": true
   },
   "outputs": [],
   "source": [
    "# Create a  dictionary to apply ratings containing FinType\n",
    "fintype_dict = {\n",
    "    'GLQ': 6,\n",
    "    'ALQ': 5,\n",
    "    'BLQ': 4,\n",
    "    'Rec': 3,\n",
    "    'LwQ': 2,\n",
    "    'Unf': 1,\n",
    "    'Na': 0\n",
    "}"
   ]
  },
  {
   "cell_type": "code",
   "execution_count": 26,
   "metadata": {
    "collapsed": true
   },
   "outputs": [],
   "source": [
    "# Create a  dictionary to apply to Garage Type\n",
    "garage_type_dict = {\n",
    "    'Attchd' :6,\n",
    "    'Detchd' :5,\n",
    "    'BuiltIn' :4,\n",
    "    'Basment' :3,\n",
    "    '2Types' :2,\n",
    "    'CarPort' :1,\n",
    "    'Na':0\n",
    "}"
   ]
  },
  {
   "cell_type": "markdown",
   "metadata": {},
   "source": [
    "### A. Bath"
   ]
  },
  {
   "cell_type": "markdown",
   "metadata": {},
   "source": [
    "####     I. Inspect "
   ]
  },
  {
   "cell_type": "code",
   "execution_count": 27,
   "metadata": {
    "scrolled": true
   },
   "outputs": [
    {
     "name": "stdout",
     "output_type": "stream",
     "text": [
      "Display part of DataFrame:\n",
      "\n",
      "   BsmtFullBath  BsmtHalfBath  FullBath  HalfBath\n",
      "0           0.0           0.0         2         1\n",
      "1           1.0           0.0         2         1\n",
      "==============================================================\n",
      "Description:\n",
      "\n",
      "       BsmtFullBath  BsmtHalfBath     FullBath     HalfBath\n",
      "count   2928.000000   2928.000000  2930.000000  2930.000000\n",
      "mean       0.431352      0.061134     1.566553     0.379522\n",
      "std        0.524820      0.245254     0.552941     0.502629\n",
      "min        0.000000      0.000000     0.000000     0.000000\n",
      "25%        0.000000      0.000000     1.000000     0.000000\n",
      "50%        0.000000      0.000000     2.000000     0.000000\n",
      "75%        1.000000      0.000000     2.000000     1.000000\n",
      "max        3.000000      2.000000     4.000000     2.000000\n",
      "==============================================================\n",
      "Data Types:\n",
      "\n",
      "BsmtFullBath    float64\n",
      "BsmtHalfBath    float64\n",
      "FullBath          int64\n",
      "HalfBath          int64\n",
      "dtype: object\n",
      "==============================================================\n",
      "Number of Null Values:\n",
      "\n",
      "BsmtFullBath    2\n",
      "BsmtHalfBath    2\n",
      "FullBath        0\n",
      "HalfBath        0\n",
      "dtype: int64\n",
      "==============================================================\n"
     ]
    }
   ],
   "source": [
    "# Print Bath info\n",
    "column_inspection(\"Bath\")"
   ]
  },
  {
   "cell_type": "markdown",
   "metadata": {},
   "source": [
    "#### II. Correlation"
   ]
  },
  {
   "cell_type": "code",
   "execution_count": 28,
   "metadata": {},
   "outputs": [
    {
     "data": {
      "image/png": "[encoded data removed]",
      "text/plain": [
       "<matplotlib.figure.Figure at 0x10ac28860>"
      ]
     },
     "metadata": {},
     "output_type": "display_data"
    }
   ],
   "source": [
    "# Heatmap of Bathroom Features\n",
    "column_correlation(\"Bath\")"
   ]
  },
  {
   "cell_type": "markdown",
   "metadata": {},
   "source": [
    "#### III. Feature Engineering"
   ]
  },
  {
   "cell_type": "code",
   "execution_count": 29,
   "metadata": {
    "collapsed": true
   },
   "outputs": [],
   "source": [
    "# Create a for loop to create a new column for each given data frame\n",
    "frames = [df, train, test] # List of DataFrames\n",
    "for _ in frames: #Loop through the list\n",
    "    _[\"Bath\"] = _[\"BsmtFullBath\"] + 0.5*_[\"BsmtHalfBath\"] +\\\n",
    "             _[\"FullBath\"] + 0.5*_[\"HalfBath\"] # New Column"
   ]
  },
  {
   "cell_type": "markdown",
   "metadata": {},
   "source": [
    "#### IV. Drop Redundant Columns"
   ]
  },
  {
   "cell_type": "code",
   "execution_count": 30,
   "metadata": {},
   "outputs": [
    {
     "name": "stdout",
     "output_type": "stream",
     "text": [
      "New shape of DataFrame: (2930, 83)\n"
     ]
    }
   ],
   "source": [
    "# Print the shape of the dataframe\n",
    "shape_of_dataframe(df)"
   ]
  },
  {
   "cell_type": "code",
   "execution_count": 31,
   "metadata": {
    "collapsed": true
   },
   "outputs": [],
   "source": [
    "# Create a for loop to drop redundant columns for each given DataFrame\n",
    "frames = [df, train, test] # List of DataFrames\n",
    "for _ in frames: #Loop through the list\n",
    "    drop_redundants(_,[\"BsmtFullBath\",\"BsmtHalfBath\",\"FullBath\",\"HalfBath\"])"
   ]
  },
  {
   "cell_type": "code",
   "execution_count": 32,
   "metadata": {},
   "outputs": [
    {
     "name": "stdout",
     "output_type": "stream",
     "text": [
      "New shape of DataFrame: (2930, 79)\n"
     ]
    }
   ],
   "source": [
    "# Print the shape of the DataFrame\n",
    "shape_of_dataframe(df)"
   ]
  },
  {
   "cell_type": "markdown",
   "metadata": {},
   "source": [
    "#### V. Handle Missing Values"
   ]
  },
  {
   "cell_type": "code",
   "execution_count": 33,
   "metadata": {},
   "outputs": [
    {
     "data": {
      "text/html": [
       "<div>\n",
       "<style>\n",
       "    .dataframe thead tr:only-child th {\n",
       "        text-align: right;\n",
       "    }\n",
       "\n",
       "    .dataframe thead th {\n",
       "        text-align: left;\n",
       "    }\n",
       "\n",
       "    .dataframe tbody tr th {\n",
       "        vertical-align: top;\n",
       "    }\n",
       "</style>\n",
       "<table border=\"1\" class=\"dataframe\">\n",
       "  <thead>\n",
       "    <tr style=\"text-align: right;\">\n",
       "      <th></th>\n",
       "      <th>1stFlrSF</th>\n",
       "      <th>2ndFlrSF</th>\n",
       "      <th>3SsnPorch</th>\n",
       "      <th>Alley</th>\n",
       "      <th>BedroomAbvGr</th>\n",
       "      <th>BldgType</th>\n",
       "      <th>BsmtCond</th>\n",
       "      <th>BsmtExposure</th>\n",
       "      <th>BsmtQual</th>\n",
       "      <th>BsmtUnfSF</th>\n",
       "      <th>BsmtFinSF1</th>\n",
       "      <th>BsmtFinSF2</th>\n",
       "      <th>BsmtFinType1</th>\n",
       "      <th>BsmtFinType2</th>\n",
       "      <th>CentralAir</th>\n",
       "      <th>Condition1</th>\n",
       "      <th>Condition2</th>\n",
       "      <th>Electrical</th>\n",
       "      <th>EnclosedPorch</th>\n",
       "      <th>ExterCond</th>\n",
       "      <th>ExterQual</th>\n",
       "      <th>Exterior1st</th>\n",
       "      <th>Exterior2nd</th>\n",
       "      <th>Fence</th>\n",
       "      <th>FireplaceQu</th>\n",
       "      <th>Fireplaces</th>\n",
       "      <th>Foundation</th>\n",
       "      <th>Functional</th>\n",
       "      <th>GarageArea</th>\n",
       "      <th>GarageCars</th>\n",
       "      <th>GarageCond</th>\n",
       "      <th>GarageFinish</th>\n",
       "      <th>GarageQual</th>\n",
       "      <th>GarageType</th>\n",
       "      <th>GarageYrBlt</th>\n",
       "      <th>GrLivArea</th>\n",
       "      <th>Heating</th>\n",
       "      <th>HeatingQC</th>\n",
       "      <th>HouseStyle</th>\n",
       "      <th>Id</th>\n",
       "      <th>KitchenAbvGr</th>\n",
       "      <th>KitchenQual</th>\n",
       "      <th>LandContour</th>\n",
       "      <th>LandSlope</th>\n",
       "      <th>LotArea</th>\n",
       "      <th>LotConfig</th>\n",
       "      <th>LotFrontage</th>\n",
       "      <th>LotShape</th>\n",
       "      <th>LowQualFinSF</th>\n",
       "      <th>MSSubClass</th>\n",
       "      <th>MSZoning</th>\n",
       "      <th>MasVnrArea</th>\n",
       "      <th>MasVnrType</th>\n",
       "      <th>MiscFeature</th>\n",
       "      <th>MiscVal</th>\n",
       "      <th>MoSold</th>\n",
       "      <th>Neighborhood</th>\n",
       "      <th>OpenPorchSF</th>\n",
       "      <th>OverallCond</th>\n",
       "      <th>OverallQual</th>\n",
       "      <th>PID</th>\n",
       "      <th>PavedDrive</th>\n",
       "      <th>PoolArea</th>\n",
       "      <th>PoolQC</th>\n",
       "      <th>RoofMatl</th>\n",
       "      <th>RoofStyle</th>\n",
       "      <th>SaleCondition</th>\n",
       "      <th>SaleType</th>\n",
       "      <th>SalePrice</th>\n",
       "      <th>ScreenPorch</th>\n",
       "      <th>Street</th>\n",
       "      <th>TotRmsAbvGrd</th>\n",
       "      <th>TotalBsmtSF</th>\n",
       "      <th>Utilities</th>\n",
       "      <th>WoodDeckSF</th>\n",
       "      <th>YearBuilt</th>\n",
       "      <th>YearRemod/Add</th>\n",
       "      <th>YrSold</th>\n",
       "      <th>Bath</th>\n",
       "    </tr>\n",
       "  </thead>\n",
       "  <tbody>\n",
       "    <tr>\n",
       "      <th>616</th>\n",
       "      <td>3820</td>\n",
       "      <td>0</td>\n",
       "      <td>0</td>\n",
       "      <td>NaN</td>\n",
       "      <td>5</td>\n",
       "      <td>1Fam</td>\n",
       "      <td>NaN</td>\n",
       "      <td>NaN</td>\n",
       "      <td>NaN</td>\n",
       "      <td>0.0</td>\n",
       "      <td>0.0</td>\n",
       "      <td>0.0</td>\n",
       "      <td>NaN</td>\n",
       "      <td>NaN</td>\n",
       "      <td>Y</td>\n",
       "      <td>Norm</td>\n",
       "      <td>Norm</td>\n",
       "      <td>SBrkr</td>\n",
       "      <td>0</td>\n",
       "      <td>TA</td>\n",
       "      <td>TA</td>\n",
       "      <td>Plywood</td>\n",
       "      <td>Plywood</td>\n",
       "      <td>NaN</td>\n",
       "      <td>Gd</td>\n",
       "      <td>2</td>\n",
       "      <td>Slab</td>\n",
       "      <td>Typ</td>\n",
       "      <td>624.0</td>\n",
       "      <td>2.0</td>\n",
       "      <td>TA</td>\n",
       "      <td>Unf</td>\n",
       "      <td>TA</td>\n",
       "      <td>Attchd</td>\n",
       "      <td>1959.0</td>\n",
       "      <td>3820</td>\n",
       "      <td>GasA</td>\n",
       "      <td>TA</td>\n",
       "      <td>1Story</td>\n",
       "      <td>1498</td>\n",
       "      <td>1</td>\n",
       "      <td>Ex</td>\n",
       "      <td>Lvl</td>\n",
       "      <td>Gtl</td>\n",
       "      <td>47007</td>\n",
       "      <td>Inside</td>\n",
       "      <td>123.0</td>\n",
       "      <td>IR1</td>\n",
       "      <td>0</td>\n",
       "      <td>20</td>\n",
       "      <td>RL</td>\n",
       "      <td>0.0</td>\n",
       "      <td>None</td>\n",
       "      <td>NaN</td>\n",
       "      <td>0</td>\n",
       "      <td>7</td>\n",
       "      <td>Edwards</td>\n",
       "      <td>372</td>\n",
       "      <td>7</td>\n",
       "      <td>5</td>\n",
       "      <td>908154080</td>\n",
       "      <td>Y</td>\n",
       "      <td>0</td>\n",
       "      <td>NaN</td>\n",
       "      <td>CompShg</td>\n",
       "      <td>Gable</td>\n",
       "      <td>Normal</td>\n",
       "      <td>WD</td>\n",
       "      <td>284700.0</td>\n",
       "      <td>0</td>\n",
       "      <td>Pave</td>\n",
       "      <td>11</td>\n",
       "      <td>0.0</td>\n",
       "      <td>AllPub</td>\n",
       "      <td>0</td>\n",
       "      <td>1959</td>\n",
       "      <td>1996</td>\n",
       "      <td>2008</td>\n",
       "      <td>NaN</td>\n",
       "    </tr>\n",
       "    <tr>\n",
       "      <th>1327</th>\n",
       "      <td>896</td>\n",
       "      <td>0</td>\n",
       "      <td>0</td>\n",
       "      <td>NaN</td>\n",
       "      <td>2</td>\n",
       "      <td>1Fam</td>\n",
       "      <td>NaN</td>\n",
       "      <td>NaN</td>\n",
       "      <td>NaN</td>\n",
       "      <td>NaN</td>\n",
       "      <td>NaN</td>\n",
       "      <td>NaN</td>\n",
       "      <td>NaN</td>\n",
       "      <td>NaN</td>\n",
       "      <td>Y</td>\n",
       "      <td>Feedr</td>\n",
       "      <td>Norm</td>\n",
       "      <td>FuseA</td>\n",
       "      <td>0</td>\n",
       "      <td>TA</td>\n",
       "      <td>TA</td>\n",
       "      <td>MetalSd</td>\n",
       "      <td>CBlock</td>\n",
       "      <td>MnPrv</td>\n",
       "      <td>NaN</td>\n",
       "      <td>0</td>\n",
       "      <td>PConc</td>\n",
       "      <td>Typ</td>\n",
       "      <td>280.0</td>\n",
       "      <td>1.0</td>\n",
       "      <td>TA</td>\n",
       "      <td>Unf</td>\n",
       "      <td>TA</td>\n",
       "      <td>Detchd</td>\n",
       "      <td>1946.0</td>\n",
       "      <td>896</td>\n",
       "      <td>GasA</td>\n",
       "      <td>TA</td>\n",
       "      <td>1Story</td>\n",
       "      <td>1342</td>\n",
       "      <td>1</td>\n",
       "      <td>TA</td>\n",
       "      <td>Lvl</td>\n",
       "      <td>Gtl</td>\n",
       "      <td>5940</td>\n",
       "      <td>FR3</td>\n",
       "      <td>99.0</td>\n",
       "      <td>IR1</td>\n",
       "      <td>0</td>\n",
       "      <td>20</td>\n",
       "      <td>RM</td>\n",
       "      <td>0.0</td>\n",
       "      <td>None</td>\n",
       "      <td>NaN</td>\n",
       "      <td>0</td>\n",
       "      <td>4</td>\n",
       "      <td>BrkSide</td>\n",
       "      <td>0</td>\n",
       "      <td>7</td>\n",
       "      <td>4</td>\n",
       "      <td>903230120</td>\n",
       "      <td>Y</td>\n",
       "      <td>0</td>\n",
       "      <td>NaN</td>\n",
       "      <td>CompShg</td>\n",
       "      <td>Gable</td>\n",
       "      <td>Abnorml</td>\n",
       "      <td>ConLD</td>\n",
       "      <td>79000.0</td>\n",
       "      <td>0</td>\n",
       "      <td>Pave</td>\n",
       "      <td>4</td>\n",
       "      <td>NaN</td>\n",
       "      <td>AllPub</td>\n",
       "      <td>0</td>\n",
       "      <td>1946</td>\n",
       "      <td>1950</td>\n",
       "      <td>2008</td>\n",
       "      <td>NaN</td>\n",
       "    </tr>\n",
       "  </tbody>\n",
       "</table>\n",
       "</div>"
      ],
      "text/plain": [
       "      1stFlrSF  2ndFlrSF  3SsnPorch Alley  BedroomAbvGr BldgType BsmtCond  \\\n",
       "616       3820         0          0   NaN             5     1Fam      NaN   \n",
       "1327       896         0          0   NaN             2     1Fam      NaN   \n",
       "\n",
       "     BsmtExposure BsmtQual  BsmtUnfSF  BsmtFinSF1  BsmtFinSF2 BsmtFinType1  \\\n",
       "616           NaN      NaN        0.0         0.0         0.0          NaN   \n",
       "1327          NaN      NaN        NaN         NaN         NaN          NaN   \n",
       "\n",
       "     BsmtFinType2 CentralAir Condition1 Condition2 Electrical  EnclosedPorch  \\\n",
       "616           NaN          Y       Norm       Norm      SBrkr              0   \n",
       "1327          NaN          Y      Feedr       Norm      FuseA              0   \n",
       "\n",
       "     ExterCond ExterQual Exterior1st Exterior2nd  Fence FireplaceQu  \\\n",
       "616         TA        TA     Plywood     Plywood    NaN          Gd   \n",
       "1327        TA        TA     MetalSd      CBlock  MnPrv         NaN   \n",
       "\n",
       "      Fireplaces Foundation Functional  GarageArea  GarageCars GarageCond  \\\n",
       "616            2       Slab        Typ       624.0         2.0         TA   \n",
       "1327           0      PConc        Typ       280.0         1.0         TA   \n",
       "\n",
       "     GarageFinish GarageQual GarageType  GarageYrBlt  GrLivArea Heating  \\\n",
       "616           Unf         TA     Attchd       1959.0       3820    GasA   \n",
       "1327          Unf         TA     Detchd       1946.0        896    GasA   \n",
       "\n",
       "     HeatingQC HouseStyle    Id  KitchenAbvGr KitchenQual LandContour  \\\n",
       "616         TA     1Story  1498             1          Ex         Lvl   \n",
       "1327        TA     1Story  1342             1          TA         Lvl   \n",
       "\n",
       "     LandSlope  LotArea LotConfig  LotFrontage LotShape  LowQualFinSF  \\\n",
       "616        Gtl    47007    Inside        123.0      IR1             0   \n",
       "1327       Gtl     5940       FR3         99.0      IR1             0   \n",
       "\n",
       "      MSSubClass MSZoning  MasVnrArea MasVnrType MiscFeature  MiscVal  MoSold  \\\n",
       "616           20       RL         0.0       None         NaN        0       7   \n",
       "1327          20       RM         0.0       None         NaN        0       4   \n",
       "\n",
       "     Neighborhood  OpenPorchSF  OverallCond  OverallQual        PID  \\\n",
       "616       Edwards          372            7            5  908154080   \n",
       "1327      BrkSide            0            7            4  903230120   \n",
       "\n",
       "     PavedDrive  PoolArea PoolQC RoofMatl RoofStyle SaleCondition SaleType  \\\n",
       "616           Y         0    NaN  CompShg     Gable        Normal      WD    \n",
       "1327          Y         0    NaN  CompShg     Gable       Abnorml    ConLD   \n",
       "\n",
       "      SalePrice  ScreenPorch Street  TotRmsAbvGrd  TotalBsmtSF Utilities  \\\n",
       "616    284700.0            0   Pave            11          0.0    AllPub   \n",
       "1327    79000.0            0   Pave             4          NaN    AllPub   \n",
       "\n",
       "      WoodDeckSF  YearBuilt  YearRemod/Add  YrSold  Bath  \n",
       "616            0       1959           1996    2008   NaN  \n",
       "1327           0       1946           1950    2008   NaN  "
      ]
     },
     "execution_count": 33,
     "metadata": {},
     "output_type": "execute_result"
    }
   ],
   "source": [
    "# Locate Nulls For Bath\n",
    "loc_missing(df,\"Bath\")"
   ]
  },
  {
   "cell_type": "code",
   "execution_count": 34,
   "metadata": {
    "scrolled": true
   },
   "outputs": [
    {
     "data": {
      "text/plain": [
       "0.068"
      ]
     },
     "execution_count": 34,
     "metadata": {},
     "output_type": "execute_result"
    }
   ],
   "source": [
    "# Print percentage of missing nulls in Bath\n",
    "percent_missing(df,\"Bath\")"
   ]
  },
  {
   "cell_type": "code",
   "execution_count": 35,
   "metadata": {
    "collapsed": true
   },
   "outputs": [],
   "source": [
    "# For df: Since nulls are a small percentage of overall data then I will drop these values\n",
    "df = drop_rows(df,\"Bath\")\n",
    "\n",
    "# For train: Since nulls are a small percentage of overall data then I will drop these values\n",
    "train = drop_rows(train,\"Bath\")\n",
    "\n",
    "# For test: Since nulls are a small percentage of overall data then I will drop these values\n",
    "test = drop_rows(test,\"Bath\")"
   ]
  },
  {
   "cell_type": "code",
   "execution_count": 36,
   "metadata": {},
   "outputs": [
    {
     "name": "stdout",
     "output_type": "stream",
     "text": [
      "New shape of DataFrame: (2928, 79)\n"
     ]
    }
   ],
   "source": [
    "# Print new shape of Data Frame\n",
    "shape_of_dataframe(df)"
   ]
  },
  {
   "cell_type": "markdown",
   "metadata": {},
   "source": [
    "#### VI. Check Outliers"
   ]
  },
  {
   "cell_type": "code",
   "execution_count": 37,
   "metadata": {},
   "outputs": [
    {
     "data": {
      "image/png": "[encoded data removed]",
      "text/plain": [
       "<matplotlib.figure.Figure at 0x10552d128>"
      ]
     },
     "metadata": {},
     "output_type": "display_data"
    }
   ],
   "source": [
    "# Check for Outliers\n",
    "box_plots(df,\"Bath\")"
   ]
  },
  {
   "cell_type": "code",
   "execution_count": 38,
   "metadata": {},
   "outputs": [
    {
     "name": "stdout",
     "output_type": "stream",
     "text": [
      "New shape of DataFrame: (2928, 79)\n"
     ]
    }
   ],
   "source": [
    "# Print new shape of Data Frame\n",
    "shape_of_dataframe(df)"
   ]
  },
  {
   "cell_type": "code",
   "execution_count": 39,
   "metadata": {
    "collapsed": true
   },
   "outputs": [],
   "source": [
    "# For df: Since it is a small percentage I will drop Bath == 5,6,7\n",
    "df = df.loc[(df[\"Bath\"] != 5) & (df[\"Bath\"] != 6) & (df[\"Bath\"] != 7),:]\n",
    "\n",
    "# For train: Since it is a small percentage I will drop Bath == 5,6,7\n",
    "train = train.loc[(train[\"Bath\"] != 5) & (train[\"Bath\"] != 6) & (train[\"Bath\"] != 7),:]\n",
    "\n",
    "# For test: Since it is a small percentage I will drop Bath == 5,6,7\n",
    "test = test.loc[(test[\"Bath\"] != 5) & (test[\"Bath\"] != 6) & (test[\"Bath\"] != 7),:]"
   ]
  },
  {
   "cell_type": "code",
   "execution_count": 40,
   "metadata": {},
   "outputs": [
    {
     "name": "stdout",
     "output_type": "stream",
     "text": [
      "New shape of DataFrame: (2920, 79)\n"
     ]
    }
   ],
   "source": [
    "# Print new shape of Data Frame\n",
    "shape_of_dataframe(df)"
   ]
  },
  {
   "cell_type": "markdown",
   "metadata": {},
   "source": [
    "### B. Garage"
   ]
  },
  {
   "cell_type": "markdown",
   "metadata": {},
   "source": [
    "#### I. Inspect"
   ]
  },
  {
   "cell_type": "code",
   "execution_count": 41,
   "metadata": {
    "scrolled": true
   },
   "outputs": [
    {
     "name": "stdout",
     "output_type": "stream",
     "text": [
      "Display part of DataFrame:\n",
      "\n",
      "   GarageArea  GarageCars GarageCond GarageFinish GarageQual GarageType  \\\n",
      "0       475.0         2.0         TA          RFn         TA     Attchd   \n",
      "1       559.0         2.0         TA          RFn         TA     Attchd   \n",
      "\n",
      "   GarageYrBlt  \n",
      "0       1976.0  \n",
      "1       1997.0  \n",
      "==============================================================\n",
      "Description:\n",
      "\n",
      "        GarageArea   GarageCars  GarageYrBlt\n",
      "count  2919.000000  2919.000000  2764.000000\n",
      "mean    472.911614     1.766358  1978.142185\n",
      "std     214.527649     0.756207    25.523907\n",
      "min       0.000000     0.000000  1895.000000\n",
      "25%     321.000000     1.000000  1960.000000\n",
      "50%     480.000000     2.000000  1979.000000\n",
      "75%     576.000000     2.000000  2002.000000\n",
      "max    1488.000000     5.000000  2207.000000\n",
      "==============================================================\n",
      "Data Types:\n",
      "\n",
      "GarageArea      float64\n",
      "GarageCars      float64\n",
      "GarageCond       object\n",
      "GarageFinish     object\n",
      "GarageQual       object\n",
      "GarageType       object\n",
      "GarageYrBlt     float64\n",
      "dtype: object\n",
      "==============================================================\n",
      "Number of Null Values:\n",
      "\n",
      "GarageArea        1\n",
      "GarageCars        1\n",
      "GarageCond      156\n",
      "GarageFinish    156\n",
      "GarageQual      156\n",
      "GarageType      154\n",
      "GarageYrBlt     156\n",
      "dtype: int64\n",
      "==============================================================\n"
     ]
    }
   ],
   "source": [
    "# Print Garage info\n",
    "column_inspection(\"Garage\")"
   ]
  },
  {
   "cell_type": "markdown",
   "metadata": {},
   "source": [
    "##### Ia. Dealing with Categoricals "
   ]
  },
  {
   "cell_type": "code",
   "execution_count": 42,
   "metadata": {},
   "outputs": [
    {
     "data": {
      "text/plain": [
       "GarageCond      5\n",
       "GarageFinish    3\n",
       "GarageQual      5\n",
       "GarageType      6\n",
       "dtype: int64"
      ]
     },
     "execution_count": 42,
     "metadata": {},
     "output_type": "execute_result"
    }
   ],
   "source": [
    "# Select all categoricals from Garage to change to numericals\n",
    "column_filter(\"Garage\").select_dtypes(include=['object']).nunique()"
   ]
  },
  {
   "cell_type": "code",
   "execution_count": 43,
   "metadata": {},
   "outputs": [
    {
     "name": "stdout",
     "output_type": "stream",
     "text": [
      "GarageCond:\n",
      "['TA' 'Fa' nan 'Po' 'Gd' 'Ex']\n",
      "GarageQual\n",
      "['TA' 'Fa' nan 'Gd' 'Ex' 'Po']\n",
      "GarageFinish\n",
      "['RFn' 'Unf' 'Fin' nan]\n",
      "GarageType\n",
      "['Attchd' 'Detchd' 'BuiltIn' 'Basment' nan '2Types' 'CarPort']\n"
     ]
    }
   ],
   "source": [
    "# View all unique \n",
    "print(\"GarageCond:\")\n",
    "view_unique_cat(\"GarageCond\")\n",
    "print(\"GarageQual\")\n",
    "view_unique_cat(\"GarageQual\")\n",
    "print(\"GarageFinish\")\n",
    "view_unique_cat(\"GarageFinish\")\n",
    "print(\"GarageType\")\n",
    "view_unique_cat(\"GarageType\")"
   ]
  },
  {
   "cell_type": "code",
   "execution_count": 44,
   "metadata": {
    "collapsed": true
   },
   "outputs": [],
   "source": [
    "# Create a for loop to fill nulls for each given data frame\n",
    "frames = [df, train, test] # List of DataFrames\n",
    "for _ in frames: #Loop through the list\n",
    "    fill_nulls(_,\"GarageCond\")\n",
    "    fill_nulls(_,\"GarageQual\")\n",
    "    fill_nulls(_,\"GarageFinish\")\n",
    "    fill_nulls(_,\"GarageType\")"
   ]
  },
  {
   "cell_type": "code",
   "execution_count": 45,
   "metadata": {
    "collapsed": true
   },
   "outputs": [],
   "source": [
    "# Create a for loop to map condition dictionary for each given data frame\n",
    "frames = [df, train, test] # List of DataFrames\n",
    "for _ in frames: #Loop through the list\n",
    "    map_dictionary(_,\"GarageCond\",condition_dict)\n",
    "    map_dictionary(_,\"GarageQual\",condition_dict)"
   ]
  },
  {
   "cell_type": "code",
   "execution_count": 46,
   "metadata": {
    "collapsed": true
   },
   "outputs": [],
   "source": [
    "# Create a for loop to map finished dictionary for each given data frame\n",
    "frames = [df, train, test] # List of DataFrames\n",
    "for _ in frames: #Loop through the list\n",
    "    map_dictionary(_,\"GarageFinish\",finished_dict)"
   ]
  },
  {
   "cell_type": "code",
   "execution_count": 47,
   "metadata": {
    "collapsed": true
   },
   "outputs": [],
   "source": [
    "# Create a for loop to map garage type dictionary for each given data frame\n",
    "frames = [df, train, test] # List of DataFrames\n",
    "for _ in frames: #Loop through the list\n",
    "    map_dictionary(_,\"GarageType\",garage_type_dict)"
   ]
  },
  {
   "cell_type": "markdown",
   "metadata": {},
   "source": [
    "#### II. Correlations"
   ]
  },
  {
   "cell_type": "code",
   "execution_count": 48,
   "metadata": {},
   "outputs": [
    {
     "data": {
      "image/png": "[encoded data removed]",
      "text/plain": [
       "<matplotlib.figure.Figure at 0x10be85470>"
      ]
     },
     "metadata": {},
     "output_type": "display_data"
    }
   ],
   "source": [
    "# Heatmap of Garage Features\n",
    "column_correlation(\"Garage\")"
   ]
  },
  {
   "cell_type": "markdown",
   "metadata": {},
   "source": [
    "#### III. Drop Redundant Columns"
   ]
  },
  {
   "cell_type": "code",
   "execution_count": 49,
   "metadata": {},
   "outputs": [
    {
     "name": "stdout",
     "output_type": "stream",
     "text": [
      "New shape of DataFrame: (2920, 79)\n"
     ]
    }
   ],
   "source": [
    "# Print the shape of the dataframe\n",
    "shape_of_dataframe(df)"
   ]
  },
  {
   "cell_type": "code",
   "execution_count": 50,
   "metadata": {
    "collapsed": true
   },
   "outputs": [],
   "source": [
    "# Create a for loop to drop redundant columns for each given DataFrame\n",
    "frames = [df, train, test] # List of DataFrames\n",
    "for _ in frames: #Loop through the list\n",
    "    drop_redundants(_,[\"GarageCond\",\"GarageCars\"])"
   ]
  },
  {
   "cell_type": "code",
   "execution_count": 51,
   "metadata": {},
   "outputs": [
    {
     "name": "stdout",
     "output_type": "stream",
     "text": [
      "New shape of DataFrame: (2920, 77)\n"
     ]
    }
   ],
   "source": [
    "# Print the shape of the dataframe\n",
    "shape_of_dataframe(df)"
   ]
  },
  {
   "cell_type": "markdown",
   "metadata": {},
   "source": [
    "#### IV. Handle Missing Values"
   ]
  },
  {
   "cell_type": "code",
   "execution_count": 52,
   "metadata": {},
   "outputs": [
    {
     "data": {
      "text/html": [
       "<div>\n",
       "<style>\n",
       "    .dataframe thead tr:only-child th {\n",
       "        text-align: right;\n",
       "    }\n",
       "\n",
       "    .dataframe thead th {\n",
       "        text-align: left;\n",
       "    }\n",
       "\n",
       "    .dataframe tbody tr th {\n",
       "        vertical-align: top;\n",
       "    }\n",
       "</style>\n",
       "<table border=\"1\" class=\"dataframe\">\n",
       "  <thead>\n",
       "    <tr style=\"text-align: right;\">\n",
       "      <th></th>\n",
       "      <th>1stFlrSF</th>\n",
       "      <th>2ndFlrSF</th>\n",
       "      <th>3SsnPorch</th>\n",
       "      <th>Alley</th>\n",
       "      <th>BedroomAbvGr</th>\n",
       "      <th>BldgType</th>\n",
       "      <th>BsmtCond</th>\n",
       "      <th>BsmtExposure</th>\n",
       "      <th>BsmtQual</th>\n",
       "      <th>BsmtUnfSF</th>\n",
       "      <th>BsmtFinSF1</th>\n",
       "      <th>BsmtFinSF2</th>\n",
       "      <th>BsmtFinType1</th>\n",
       "      <th>BsmtFinType2</th>\n",
       "      <th>CentralAir</th>\n",
       "      <th>Condition1</th>\n",
       "      <th>Condition2</th>\n",
       "      <th>Electrical</th>\n",
       "      <th>EnclosedPorch</th>\n",
       "      <th>ExterCond</th>\n",
       "      <th>ExterQual</th>\n",
       "      <th>Exterior1st</th>\n",
       "      <th>Exterior2nd</th>\n",
       "      <th>Fence</th>\n",
       "      <th>FireplaceQu</th>\n",
       "      <th>Fireplaces</th>\n",
       "      <th>Foundation</th>\n",
       "      <th>Functional</th>\n",
       "      <th>GarageArea</th>\n",
       "      <th>GarageFinish</th>\n",
       "      <th>GarageQual</th>\n",
       "      <th>GarageType</th>\n",
       "      <th>GarageYrBlt</th>\n",
       "      <th>GrLivArea</th>\n",
       "      <th>Heating</th>\n",
       "      <th>HeatingQC</th>\n",
       "      <th>HouseStyle</th>\n",
       "      <th>Id</th>\n",
       "      <th>KitchenAbvGr</th>\n",
       "      <th>KitchenQual</th>\n",
       "      <th>LandContour</th>\n",
       "      <th>LandSlope</th>\n",
       "      <th>LotArea</th>\n",
       "      <th>LotConfig</th>\n",
       "      <th>LotFrontage</th>\n",
       "      <th>LotShape</th>\n",
       "      <th>LowQualFinSF</th>\n",
       "      <th>MSSubClass</th>\n",
       "      <th>MSZoning</th>\n",
       "      <th>MasVnrArea</th>\n",
       "      <th>MasVnrType</th>\n",
       "      <th>MiscFeature</th>\n",
       "      <th>MiscVal</th>\n",
       "      <th>MoSold</th>\n",
       "      <th>Neighborhood</th>\n",
       "      <th>OpenPorchSF</th>\n",
       "      <th>OverallCond</th>\n",
       "      <th>OverallQual</th>\n",
       "      <th>PID</th>\n",
       "      <th>PavedDrive</th>\n",
       "      <th>PoolArea</th>\n",
       "      <th>PoolQC</th>\n",
       "      <th>RoofMatl</th>\n",
       "      <th>RoofStyle</th>\n",
       "      <th>SaleCondition</th>\n",
       "      <th>SaleType</th>\n",
       "      <th>SalePrice</th>\n",
       "      <th>ScreenPorch</th>\n",
       "      <th>Street</th>\n",
       "      <th>TotRmsAbvGrd</th>\n",
       "      <th>TotalBsmtSF</th>\n",
       "      <th>Utilities</th>\n",
       "      <th>WoodDeckSF</th>\n",
       "      <th>YearBuilt</th>\n",
       "      <th>YearRemod/Add</th>\n",
       "      <th>YrSold</th>\n",
       "      <th>Bath</th>\n",
       "    </tr>\n",
       "  </thead>\n",
       "  <tbody>\n",
       "    <tr>\n",
       "      <th>1712</th>\n",
       "      <td>942</td>\n",
       "      <td>886</td>\n",
       "      <td>0</td>\n",
       "      <td>NaN</td>\n",
       "      <td>3</td>\n",
       "      <td>1Fam</td>\n",
       "      <td>TA</td>\n",
       "      <td>No</td>\n",
       "      <td>Gd</td>\n",
       "      <td>311.0</td>\n",
       "      <td>548.0</td>\n",
       "      <td>0.0</td>\n",
       "      <td>ALQ</td>\n",
       "      <td>Unf</td>\n",
       "      <td>Y</td>\n",
       "      <td>Norm</td>\n",
       "      <td>Norm</td>\n",
       "      <td>SBrkr</td>\n",
       "      <td>212</td>\n",
       "      <td>TA</td>\n",
       "      <td>TA</td>\n",
       "      <td>Wd Sdng</td>\n",
       "      <td>Plywood</td>\n",
       "      <td>MnPrv</td>\n",
       "      <td>NaN</td>\n",
       "      <td>0</td>\n",
       "      <td>BrkTil</td>\n",
       "      <td>Typ</td>\n",
       "      <td>NaN</td>\n",
       "      <td>0</td>\n",
       "      <td>0</td>\n",
       "      <td>5</td>\n",
       "      <td>NaN</td>\n",
       "      <td>1828</td>\n",
       "      <td>GasA</td>\n",
       "      <td>Ex</td>\n",
       "      <td>2Story</td>\n",
       "      <td>2237</td>\n",
       "      <td>1</td>\n",
       "      <td>Gd</td>\n",
       "      <td>Lvl</td>\n",
       "      <td>Gtl</td>\n",
       "      <td>9060</td>\n",
       "      <td>Inside</td>\n",
       "      <td>50.0</td>\n",
       "      <td>Reg</td>\n",
       "      <td>0</td>\n",
       "      <td>70</td>\n",
       "      <td>RM</td>\n",
       "      <td>0.0</td>\n",
       "      <td>None</td>\n",
       "      <td>NaN</td>\n",
       "      <td>0</td>\n",
       "      <td>3</td>\n",
       "      <td>IDOTRR</td>\n",
       "      <td>0</td>\n",
       "      <td>6</td>\n",
       "      <td>5</td>\n",
       "      <td>910201180</td>\n",
       "      <td>Y</td>\n",
       "      <td>0</td>\n",
       "      <td>NaN</td>\n",
       "      <td>CompShg</td>\n",
       "      <td>Gable</td>\n",
       "      <td>Alloca</td>\n",
       "      <td>WD</td>\n",
       "      <td>150909.0</td>\n",
       "      <td>0</td>\n",
       "      <td>Pave</td>\n",
       "      <td>6</td>\n",
       "      <td>859.0</td>\n",
       "      <td>AllPub</td>\n",
       "      <td>174</td>\n",
       "      <td>1923</td>\n",
       "      <td>1999</td>\n",
       "      <td>2007</td>\n",
       "      <td>2.0</td>\n",
       "    </tr>\n",
       "  </tbody>\n",
       "</table>\n",
       "</div>"
      ],
      "text/plain": [
       "      1stFlrSF  2ndFlrSF  3SsnPorch Alley  BedroomAbvGr BldgType BsmtCond  \\\n",
       "1712       942       886          0   NaN             3     1Fam       TA   \n",
       "\n",
       "     BsmtExposure BsmtQual  BsmtUnfSF  BsmtFinSF1  BsmtFinSF2 BsmtFinType1  \\\n",
       "1712           No       Gd      311.0       548.0         0.0          ALQ   \n",
       "\n",
       "     BsmtFinType2 CentralAir Condition1 Condition2 Electrical  EnclosedPorch  \\\n",
       "1712          Unf          Y       Norm       Norm      SBrkr            212   \n",
       "\n",
       "     ExterCond ExterQual Exterior1st Exterior2nd  Fence FireplaceQu  \\\n",
       "1712        TA        TA     Wd Sdng     Plywood  MnPrv         NaN   \n",
       "\n",
       "      Fireplaces Foundation Functional  GarageArea  GarageFinish  GarageQual  \\\n",
       "1712           0     BrkTil        Typ         NaN             0           0   \n",
       "\n",
       "      GarageType  GarageYrBlt  GrLivArea Heating HeatingQC HouseStyle    Id  \\\n",
       "1712           5          NaN       1828    GasA        Ex     2Story  2237   \n",
       "\n",
       "      KitchenAbvGr KitchenQual LandContour LandSlope  LotArea LotConfig  \\\n",
       "1712             1          Gd         Lvl       Gtl     9060    Inside   \n",
       "\n",
       "      LotFrontage LotShape  LowQualFinSF  MSSubClass MSZoning  MasVnrArea  \\\n",
       "1712         50.0      Reg             0          70       RM         0.0   \n",
       "\n",
       "     MasVnrType MiscFeature  MiscVal  MoSold Neighborhood  OpenPorchSF  \\\n",
       "1712       None         NaN        0       3       IDOTRR            0   \n",
       "\n",
       "      OverallCond  OverallQual        PID PavedDrive  PoolArea PoolQC  \\\n",
       "1712            6            5  910201180          Y         0    NaN   \n",
       "\n",
       "     RoofMatl RoofStyle SaleCondition SaleType  SalePrice  ScreenPorch Street  \\\n",
       "1712  CompShg     Gable        Alloca      WD    150909.0            0   Pave   \n",
       "\n",
       "      TotRmsAbvGrd  TotalBsmtSF Utilities  WoodDeckSF  YearBuilt  \\\n",
       "1712             6        859.0    AllPub         174       1923   \n",
       "\n",
       "      YearRemod/Add  YrSold  Bath  \n",
       "1712           1999    2007   2.0  "
      ]
     },
     "execution_count": 52,
     "metadata": {},
     "output_type": "execute_result"
    }
   ],
   "source": [
    "# Locate Nulls For GarageArea\n",
    "loc_missing(df,\"GarageArea\")"
   ]
  },
  {
   "cell_type": "code",
   "execution_count": 53,
   "metadata": {},
   "outputs": [
    {
     "data": {
      "text/plain": [
       "0.034"
      ]
     },
     "execution_count": 53,
     "metadata": {},
     "output_type": "execute_result"
    }
   ],
   "source": [
    "# Print percentage of missing nulls in GarageArea\n",
    "percent_missing(df,\"GarageArea\")"
   ]
  },
  {
   "cell_type": "code",
   "execution_count": 54,
   "metadata": {
    "collapsed": true
   },
   "outputs": [],
   "source": [
    "# For df: Since nulls are a small percentage of overall data then I will drop these values\n",
    "df = drop_rows(df,\"GarageArea\")\n",
    "\n",
    "# For train: Since nulls are a small percentage of overall data then I will drop these values\n",
    "train = drop_rows(train,\"GarageArea\")\n",
    "\n",
    "# For test: Since nulls are a small percentage of overall data then I will drop these values\n",
    "test = drop_rows(test,\"GarageArea\")"
   ]
  },
  {
   "cell_type": "code",
   "execution_count": 55,
   "metadata": {},
   "outputs": [
    {
     "name": "stdout",
     "output_type": "stream",
     "text": [
      "New shape of DataFrame: (2919, 77)\n"
     ]
    }
   ],
   "source": [
    "# Print new shape of Data Frame\n",
    "shape_of_dataframe(df)"
   ]
  },
  {
   "cell_type": "code",
   "execution_count": 56,
   "metadata": {},
   "outputs": [
    {
     "data": {
      "text/html": [
       "<div>\n",
       "<style>\n",
       "    .dataframe thead tr:only-child th {\n",
       "        text-align: right;\n",
       "    }\n",
       "\n",
       "    .dataframe thead th {\n",
       "        text-align: left;\n",
       "    }\n",
       "\n",
       "    .dataframe tbody tr th {\n",
       "        vertical-align: top;\n",
       "    }\n",
       "</style>\n",
       "<table border=\"1\" class=\"dataframe\">\n",
       "  <thead>\n",
       "    <tr style=\"text-align: right;\">\n",
       "      <th></th>\n",
       "      <th>1stFlrSF</th>\n",
       "      <th>2ndFlrSF</th>\n",
       "      <th>3SsnPorch</th>\n",
       "      <th>Alley</th>\n",
       "      <th>BedroomAbvGr</th>\n",
       "      <th>BldgType</th>\n",
       "      <th>BsmtCond</th>\n",
       "      <th>BsmtExposure</th>\n",
       "      <th>BsmtQual</th>\n",
       "      <th>BsmtUnfSF</th>\n",
       "      <th>BsmtFinSF1</th>\n",
       "      <th>BsmtFinSF2</th>\n",
       "      <th>BsmtFinType1</th>\n",
       "      <th>BsmtFinType2</th>\n",
       "      <th>CentralAir</th>\n",
       "      <th>Condition1</th>\n",
       "      <th>Condition2</th>\n",
       "      <th>Electrical</th>\n",
       "      <th>EnclosedPorch</th>\n",
       "      <th>ExterCond</th>\n",
       "      <th>ExterQual</th>\n",
       "      <th>Exterior1st</th>\n",
       "      <th>Exterior2nd</th>\n",
       "      <th>Fence</th>\n",
       "      <th>FireplaceQu</th>\n",
       "      <th>Fireplaces</th>\n",
       "      <th>Foundation</th>\n",
       "      <th>Functional</th>\n",
       "      <th>GarageArea</th>\n",
       "      <th>GarageFinish</th>\n",
       "      <th>GarageQual</th>\n",
       "      <th>GarageType</th>\n",
       "      <th>GarageYrBlt</th>\n",
       "      <th>GrLivArea</th>\n",
       "      <th>Heating</th>\n",
       "      <th>HeatingQC</th>\n",
       "      <th>HouseStyle</th>\n",
       "      <th>Id</th>\n",
       "      <th>KitchenAbvGr</th>\n",
       "      <th>KitchenQual</th>\n",
       "      <th>LandContour</th>\n",
       "      <th>LandSlope</th>\n",
       "      <th>LotArea</th>\n",
       "      <th>LotConfig</th>\n",
       "      <th>LotFrontage</th>\n",
       "      <th>LotShape</th>\n",
       "      <th>LowQualFinSF</th>\n",
       "      <th>MSSubClass</th>\n",
       "      <th>MSZoning</th>\n",
       "      <th>MasVnrArea</th>\n",
       "      <th>MasVnrType</th>\n",
       "      <th>MiscFeature</th>\n",
       "      <th>MiscVal</th>\n",
       "      <th>MoSold</th>\n",
       "      <th>Neighborhood</th>\n",
       "      <th>OpenPorchSF</th>\n",
       "      <th>OverallCond</th>\n",
       "      <th>OverallQual</th>\n",
       "      <th>PID</th>\n",
       "      <th>PavedDrive</th>\n",
       "      <th>PoolArea</th>\n",
       "      <th>PoolQC</th>\n",
       "      <th>RoofMatl</th>\n",
       "      <th>RoofStyle</th>\n",
       "      <th>SaleCondition</th>\n",
       "      <th>SaleType</th>\n",
       "      <th>SalePrice</th>\n",
       "      <th>ScreenPorch</th>\n",
       "      <th>Street</th>\n",
       "      <th>TotRmsAbvGrd</th>\n",
       "      <th>TotalBsmtSF</th>\n",
       "      <th>Utilities</th>\n",
       "      <th>WoodDeckSF</th>\n",
       "      <th>YearBuilt</th>\n",
       "      <th>YearRemod/Add</th>\n",
       "      <th>YrSold</th>\n",
       "      <th>Bath</th>\n",
       "    </tr>\n",
       "  </thead>\n",
       "  <tbody>\n",
       "    <tr>\n",
       "      <th>28</th>\n",
       "      <td>1034</td>\n",
       "      <td>957</td>\n",
       "      <td>0</td>\n",
       "      <td>NaN</td>\n",
       "      <td>4</td>\n",
       "      <td>2fmCon</td>\n",
       "      <td>TA</td>\n",
       "      <td>No</td>\n",
       "      <td>TA</td>\n",
       "      <td>957.0</td>\n",
       "      <td>0.0</td>\n",
       "      <td>0.0</td>\n",
       "      <td>Unf</td>\n",
       "      <td>Unf</td>\n",
       "      <td>N</td>\n",
       "      <td>Feedr</td>\n",
       "      <td>Norm</td>\n",
       "      <td>SBrkr</td>\n",
       "      <td>133</td>\n",
       "      <td>Gd</td>\n",
       "      <td>TA</td>\n",
       "      <td>VinylSd</td>\n",
       "      <td>VinylSd</td>\n",
       "      <td>NaN</td>\n",
       "      <td>NaN</td>\n",
       "      <td>0</td>\n",
       "      <td>CBlock</td>\n",
       "      <td>Typ</td>\n",
       "      <td>0.0</td>\n",
       "      <td>0</td>\n",
       "      <td>0</td>\n",
       "      <td>0</td>\n",
       "      <td>NaN</td>\n",
       "      <td>1991</td>\n",
       "      <td>GasA</td>\n",
       "      <td>Fa</td>\n",
       "      <td>2Story</td>\n",
       "      <td>2243</td>\n",
       "      <td>2</td>\n",
       "      <td>TA</td>\n",
       "      <td>Lvl</td>\n",
       "      <td>Gtl</td>\n",
       "      <td>8250</td>\n",
       "      <td>Inside</td>\n",
       "      <td>75.0</td>\n",
       "      <td>Reg</td>\n",
       "      <td>0</td>\n",
       "      <td>190</td>\n",
       "      <td>C (all)</td>\n",
       "      <td>0.0</td>\n",
       "      <td>None</td>\n",
       "      <td>NaN</td>\n",
       "      <td>0</td>\n",
       "      <td>6</td>\n",
       "      <td>IDOTRR</td>\n",
       "      <td>0</td>\n",
       "      <td>6</td>\n",
       "      <td>5</td>\n",
       "      <td>911103060</td>\n",
       "      <td>N</td>\n",
       "      <td>0</td>\n",
       "      <td>NaN</td>\n",
       "      <td>CompShg</td>\n",
       "      <td>Gable</td>\n",
       "      <td>Normal</td>\n",
       "      <td>WD</td>\n",
       "      <td>119600.0</td>\n",
       "      <td>0</td>\n",
       "      <td>Pave</td>\n",
       "      <td>9</td>\n",
       "      <td>957.0</td>\n",
       "      <td>AllPub</td>\n",
       "      <td>0</td>\n",
       "      <td>1895</td>\n",
       "      <td>2006</td>\n",
       "      <td>2007</td>\n",
       "      <td>2.0</td>\n",
       "    </tr>\n",
       "    <tr>\n",
       "      <th>53</th>\n",
       "      <td>546</td>\n",
       "      <td>546</td>\n",
       "      <td>0</td>\n",
       "      <td>NaN</td>\n",
       "      <td>3</td>\n",
       "      <td>Twnhs</td>\n",
       "      <td>TA</td>\n",
       "      <td>No</td>\n",
       "      <td>TA</td>\n",
       "      <td>370.0</td>\n",
       "      <td>176.0</td>\n",
       "      <td>0.0</td>\n",
       "      <td>GLQ</td>\n",
       "      <td>Unf</td>\n",
       "      <td>Y</td>\n",
       "      <td>Norm</td>\n",
       "      <td>Norm</td>\n",
       "      <td>SBrkr</td>\n",
       "      <td>0</td>\n",
       "      <td>TA</td>\n",
       "      <td>TA</td>\n",
       "      <td>CemntBd</td>\n",
       "      <td>CmentBd</td>\n",
       "      <td>NaN</td>\n",
       "      <td>NaN</td>\n",
       "      <td>0</td>\n",
       "      <td>CBlock</td>\n",
       "      <td>Typ</td>\n",
       "      <td>0.0</td>\n",
       "      <td>0</td>\n",
       "      <td>0</td>\n",
       "      <td>0</td>\n",
       "      <td>NaN</td>\n",
       "      <td>1092</td>\n",
       "      <td>GasA</td>\n",
       "      <td>Ex</td>\n",
       "      <td>2Story</td>\n",
       "      <td>330</td>\n",
       "      <td>1</td>\n",
       "      <td>TA</td>\n",
       "      <td>Lvl</td>\n",
       "      <td>Gtl</td>\n",
       "      <td>1476</td>\n",
       "      <td>Inside</td>\n",
       "      <td>21.0</td>\n",
       "      <td>Reg</td>\n",
       "      <td>0</td>\n",
       "      <td>160</td>\n",
       "      <td>RM</td>\n",
       "      <td>0.0</td>\n",
       "      <td>None</td>\n",
       "      <td>NaN</td>\n",
       "      <td>0</td>\n",
       "      <td>3</td>\n",
       "      <td>MeadowV</td>\n",
       "      <td>26</td>\n",
       "      <td>7</td>\n",
       "      <td>4</td>\n",
       "      <td>923226250</td>\n",
       "      <td>Y</td>\n",
       "      <td>0</td>\n",
       "      <td>NaN</td>\n",
       "      <td>CompShg</td>\n",
       "      <td>Gable</td>\n",
       "      <td>Normal</td>\n",
       "      <td>WD</td>\n",
       "      <td>76000.0</td>\n",
       "      <td>0</td>\n",
       "      <td>Pave</td>\n",
       "      <td>5</td>\n",
       "      <td>546.0</td>\n",
       "      <td>AllPub</td>\n",
       "      <td>200</td>\n",
       "      <td>1970</td>\n",
       "      <td>1970</td>\n",
       "      <td>2010</td>\n",
       "      <td>1.5</td>\n",
       "    </tr>\n",
       "  </tbody>\n",
       "</table>\n",
       "</div>"
      ],
      "text/plain": [
       "    1stFlrSF  2ndFlrSF  3SsnPorch Alley  BedroomAbvGr BldgType BsmtCond  \\\n",
       "28      1034       957          0   NaN             4   2fmCon       TA   \n",
       "53       546       546          0   NaN             3    Twnhs       TA   \n",
       "\n",
       "   BsmtExposure BsmtQual  BsmtUnfSF  BsmtFinSF1  BsmtFinSF2 BsmtFinType1  \\\n",
       "28           No       TA      957.0         0.0         0.0          Unf   \n",
       "53           No       TA      370.0       176.0         0.0          GLQ   \n",
       "\n",
       "   BsmtFinType2 CentralAir Condition1 Condition2 Electrical  EnclosedPorch  \\\n",
       "28          Unf          N      Feedr       Norm      SBrkr            133   \n",
       "53          Unf          Y       Norm       Norm      SBrkr              0   \n",
       "\n",
       "   ExterCond ExterQual Exterior1st Exterior2nd Fence FireplaceQu  Fireplaces  \\\n",
       "28        Gd        TA     VinylSd     VinylSd   NaN         NaN           0   \n",
       "53        TA        TA     CemntBd     CmentBd   NaN         NaN           0   \n",
       "\n",
       "   Foundation Functional  GarageArea  GarageFinish  GarageQual  GarageType  \\\n",
       "28     CBlock        Typ         0.0             0           0           0   \n",
       "53     CBlock        Typ         0.0             0           0           0   \n",
       "\n",
       "    GarageYrBlt  GrLivArea Heating HeatingQC HouseStyle    Id  KitchenAbvGr  \\\n",
       "28          NaN       1991    GasA        Fa     2Story  2243             2   \n",
       "53          NaN       1092    GasA        Ex     2Story   330             1   \n",
       "\n",
       "   KitchenQual LandContour LandSlope  LotArea LotConfig  LotFrontage LotShape  \\\n",
       "28          TA         Lvl       Gtl     8250    Inside         75.0      Reg   \n",
       "53          TA         Lvl       Gtl     1476    Inside         21.0      Reg   \n",
       "\n",
       "    LowQualFinSF  MSSubClass MSZoning  MasVnrArea MasVnrType MiscFeature  \\\n",
       "28             0         190  C (all)         0.0       None         NaN   \n",
       "53             0         160       RM         0.0       None         NaN   \n",
       "\n",
       "    MiscVal  MoSold Neighborhood  OpenPorchSF  OverallCond  OverallQual  \\\n",
       "28        0       6       IDOTRR            0            6            5   \n",
       "53        0       3      MeadowV           26            7            4   \n",
       "\n",
       "          PID PavedDrive  PoolArea PoolQC RoofMatl RoofStyle SaleCondition  \\\n",
       "28  911103060          N         0    NaN  CompShg     Gable        Normal   \n",
       "53  923226250          Y         0    NaN  CompShg     Gable        Normal   \n",
       "\n",
       "   SaleType  SalePrice  ScreenPorch Street  TotRmsAbvGrd  TotalBsmtSF  \\\n",
       "28      WD    119600.0            0   Pave             9        957.0   \n",
       "53      WD     76000.0            0   Pave             5        546.0   \n",
       "\n",
       "   Utilities  WoodDeckSF  YearBuilt  YearRemod/Add  YrSold  Bath  \n",
       "28    AllPub           0       1895           2006    2007   2.0  \n",
       "53    AllPub         200       1970           1970    2010   1.5  "
      ]
     },
     "execution_count": 56,
     "metadata": {},
     "output_type": "execute_result"
    }
   ],
   "source": [
    "# Locate Nulls For GarageYrBlt\n",
    "loc_missing(df,\"GarageYrBlt\").head(2)"
   ]
  },
  {
   "cell_type": "code",
   "execution_count": 57,
   "metadata": {},
   "outputs": [
    {
     "data": {
      "text/plain": [
       "5.31"
      ]
     },
     "execution_count": 57,
     "metadata": {},
     "output_type": "execute_result"
    }
   ],
   "source": [
    "# Print percentage of missing nulls in GarageYrBlt\n",
    "percent_missing(df,\"GarageYrBlt\")"
   ]
  },
  {
   "cell_type": "code",
   "execution_count": 58,
   "metadata": {
    "collapsed": true
   },
   "outputs": [],
   "source": [
    "# Create a for loop to fill in columns for each given DataFrame\n",
    "frames = [df, train, test] # List of DataFrames\n",
    "for _ in frames: #Loop through the list\n",
    "    _.GarageYrBlt.fillna(_.YearBuilt,inplace = True)"
   ]
  },
  {
   "cell_type": "markdown",
   "metadata": {},
   "source": [
    "#### V. Check Outliers"
   ]
  },
  {
   "cell_type": "code",
   "execution_count": 59,
   "metadata": {
    "collapsed": true
   },
   "outputs": [],
   "source": [
    "# Create a list to boxplot\n",
    "garage_list = column_filter('Garage').columns.tolist()"
   ]
  },
  {
   "cell_type": "code",
   "execution_count": 60,
   "metadata": {},
   "outputs": [
    {
     "data": {
      "image/png": "[encoded data removed]",
      "text/plain": [
       "<matplotlib.figure.Figure at 0x10b7a7c88>"
      ]
     },
     "metadata": {},
     "output_type": "display_data"
    },
    {
     "data": {
      "image/png": "[encoded data removed]",
      "text/plain": [
       "<matplotlib.figure.Figure at 0x10b7a71d0>"
      ]
     },
     "metadata": {},
     "output_type": "display_data"
    },
    {
     "data": {
      "image/png": "[encoded data removed]",
      "text/plain": [
       "<matplotlib.figure.Figure at 0x10be925f8>"
      ]
     },
     "metadata": {},
     "output_type": "display_data"
    },
    {
     "data": {
      "image/png": "[encoded data removed]",
      "text/plain": [
       "<matplotlib.figure.Figure at 0x10c11f518>"
      ]
     },
     "metadata": {},
     "output_type": "display_data"
    },
    {
     "data": {
      "image/png": "[encoded data removed]",
      "text/plain": [
       "<matplotlib.figure.Figure at 0x10c529828>"
      ]
     },
     "metadata": {},
     "output_type": "display_data"
    }
   ],
   "source": [
    "# Create a for loop to plot\n",
    "for a in garage_list:\n",
    "    box_plots(df,a)"
   ]
  },
  {
   "cell_type": "code",
   "execution_count": 61,
   "metadata": {},
   "outputs": [
    {
     "name": "stdout",
     "output_type": "stream",
     "text": [
      "New shape of DataFrame: (2919, 77)\n"
     ]
    }
   ],
   "source": [
    "# Print new shape of Data Frame\n",
    "shape_of_dataframe(df)"
   ]
  },
  {
   "cell_type": "code",
   "execution_count": 62,
   "metadata": {
    "collapsed": true
   },
   "outputs": [],
   "source": [
    "# For df: Since it is a small percentage I will drop GarageArea >1200\n",
    "df = df.loc[(df[\"GarageArea\"]<1200),:]\n",
    "\n",
    "# For train: Since it is a small percentage I will drop GarageArea >1200\n",
    "train = train.loc[(train[\"GarageArea\"]<1200),:]\n",
    "\n",
    "# For test: Since it is a small percentage I will drop GarageArea >1200\n",
    "test = test.loc[(test[\"GarageArea\"]<1200),:]\n",
    "    "
   ]
  },
  {
   "cell_type": "code",
   "execution_count": 63,
   "metadata": {},
   "outputs": [
    {
     "name": "stdout",
     "output_type": "stream",
     "text": [
      "New shape of DataFrame: (2909, 77)\n"
     ]
    }
   ],
   "source": [
    "# Print new shape of Data Frame\n",
    "shape_of_dataframe(df)"
   ]
  },
  {
   "cell_type": "code",
   "execution_count": 64,
   "metadata": {
    "collapsed": true
   },
   "outputs": [],
   "source": [
    "# For df: Since it is a small percentage I will drop GarageYrBlt >2020\n",
    "df = df.loc[(df[\"GarageYrBlt\"]<2020),:]\n",
    "\n",
    "# For train: Since it is a small percentage I will drop GarageYrBlt >2020\n",
    "train = train.loc[(train[\"GarageYrBlt\"]<2020),:]\n",
    "\n",
    "# For test: Since it is a small percentage I will drop GarageYrBlt >2020\n",
    "test = test.loc[(test[\"GarageYrBlt\"]<2020),:]"
   ]
  },
  {
   "cell_type": "code",
   "execution_count": 65,
   "metadata": {},
   "outputs": [
    {
     "name": "stdout",
     "output_type": "stream",
     "text": [
      "New shape of DataFrame: (2908, 77)\n"
     ]
    }
   ],
   "source": [
    "# Print new shape of Data Frame\n",
    "shape_of_dataframe(df)"
   ]
  },
  {
   "cell_type": "markdown",
   "metadata": {},
   "source": [
    "### C. Basement"
   ]
  },
  {
   "cell_type": "markdown",
   "metadata": {},
   "source": [
    "#### I. Inspect "
   ]
  },
  {
   "cell_type": "code",
   "execution_count": 66,
   "metadata": {
    "scrolled": true
   },
   "outputs": [
    {
     "name": "stdout",
     "output_type": "stream",
     "text": [
      "Display part of DataFrame:\n",
      "\n",
      "  BsmtCond BsmtExposure BsmtQual  BsmtUnfSF  BsmtFinSF1  BsmtFinSF2  \\\n",
      "0       TA           No       TA      192.0       533.0         0.0   \n",
      "1       TA           No       Gd      276.0       637.0         0.0   \n",
      "\n",
      "  BsmtFinType1 BsmtFinType2  TotalBsmtSF  \n",
      "0          GLQ          Unf        725.0  \n",
      "1          GLQ          Unf        913.0  \n",
      "==============================================================\n",
      "Description:\n",
      "\n",
      "         BsmtUnfSF   BsmtFinSF1   BsmtFinSF2  TotalBsmtSF\n",
      "count  2908.000000  2908.000000  2908.000000  2908.000000\n",
      "mean    559.805021   438.913343    49.848006  1048.566369\n",
      "std     439.100857   443.534539   169.326498   429.843755\n",
      "min       0.000000     0.000000     0.000000     0.000000\n",
      "25%     219.750000     0.000000     0.000000   791.750000\n",
      "50%     467.000000   368.500000     0.000000   988.000000\n",
      "75%     802.250000   732.250000     0.000000  1300.000000\n",
      "max    2336.000000  4010.000000  1526.000000  5095.000000\n",
      "==============================================================\n",
      "Data Types:\n",
      "\n",
      "BsmtCond         object\n",
      "BsmtExposure     object\n",
      "BsmtQual         object\n",
      "BsmtUnfSF       float64\n",
      "BsmtFinSF1      float64\n",
      "BsmtFinSF2      float64\n",
      "BsmtFinType1     object\n",
      "BsmtFinType2     object\n",
      "TotalBsmtSF     float64\n",
      "dtype: object\n",
      "==============================================================\n",
      "Number of Null Values:\n",
      "\n",
      "BsmtCond        78\n",
      "BsmtExposure    81\n",
      "BsmtQual        78\n",
      "BsmtUnfSF        0\n",
      "BsmtFinSF1       0\n",
      "BsmtFinSF2       0\n",
      "BsmtFinType1    78\n",
      "BsmtFinType2    79\n",
      "TotalBsmtSF      0\n",
      "dtype: int64\n",
      "==============================================================\n"
     ]
    }
   ],
   "source": [
    "# Print Basement info\n",
    "column_inspection(\"Bsmt\")"
   ]
  },
  {
   "cell_type": "markdown",
   "metadata": {},
   "source": [
    "##### Ia. Dealing with Categoricals "
   ]
  },
  {
   "cell_type": "code",
   "execution_count": 67,
   "metadata": {},
   "outputs": [
    {
     "data": {
      "text/plain": [
       "BsmtCond        5\n",
       "BsmtExposure    4\n",
       "BsmtQual        5\n",
       "BsmtFinType1    6\n",
       "BsmtFinType2    6\n",
       "dtype: int64"
      ]
     },
     "execution_count": 67,
     "metadata": {},
     "output_type": "execute_result"
    }
   ],
   "source": [
    "# Select all categoricals from Basement to change to numericals\n",
    "column_filter(\"Bsmt\").select_dtypes(include=['object']).nunique()"
   ]
  },
  {
   "cell_type": "code",
   "execution_count": 68,
   "metadata": {},
   "outputs": [
    {
     "name": "stdout",
     "output_type": "stream",
     "text": [
      "BsmtCond:\n",
      "['TA' 'Gd' nan 'Fa' 'Po' 'Ex']\n",
      "BsmtQual\n",
      "['TA' 'Gd' 'Fa' nan 'Ex' 'Po']\n",
      "BsmtExposure\n",
      "['No' 'Gd' 'Av' nan 'Mn']\n",
      "BsmtFinType1\n",
      "['GLQ' 'Unf' 'ALQ' 'Rec' nan 'BLQ' 'LwQ']\n",
      "BsmtFinType2\n",
      "['Unf' 'Rec' nan 'BLQ' 'GLQ' 'LwQ' 'ALQ']\n"
     ]
    }
   ],
   "source": [
    "# View all unique \n",
    "print(\"BsmtCond:\")\n",
    "view_unique_cat(\"BsmtCond\")\n",
    "print(\"BsmtQual\")\n",
    "view_unique_cat(\"BsmtQual\")\n",
    "print(\"BsmtExposure\")\n",
    "view_unique_cat(\"BsmtExposure\")\n",
    "print(\"BsmtFinType1\")\n",
    "view_unique_cat(\"BsmtFinType1\")\n",
    "print(\"BsmtFinType2\")\n",
    "view_unique_cat(\"BsmtFinType2\")"
   ]
  },
  {
   "cell_type": "code",
   "execution_count": 69,
   "metadata": {
    "collapsed": true
   },
   "outputs": [],
   "source": [
    "# Create a for loop to fill nulls for each given data frame\n",
    "frames = [df, train, test] # List of DataFrames\n",
    "for _ in frames: #Loop through the list\n",
    "    fill_nulls(_,\"BsmtCond\")\n",
    "    fill_nulls(_,\"BsmtQual\")\n",
    "    fill_nulls(_,\"BsmtExposure\")\n",
    "    fill_nulls(_,\"BsmtFinType1\")\n",
    "    fill_nulls(_,\"BsmtFinType2\")"
   ]
  },
  {
   "cell_type": "code",
   "execution_count": 70,
   "metadata": {
    "collapsed": true
   },
   "outputs": [],
   "source": [
    "# Create a for loop to map condition dictionary for each given data frame\n",
    "frames = [df, train, test] # List of DataFrames\n",
    "for _ in frames: #Loop through the list\n",
    "    map_dictionary(_,\"BsmtCond\",condition_dict)\n",
    "    map_dictionary(_,\"BsmtQual\",condition_dict)"
   ]
  },
  {
   "cell_type": "code",
   "execution_count": 71,
   "metadata": {
    "collapsed": true
   },
   "outputs": [],
   "source": [
    "# Create a for loop to map exposure dictionary for each given data frame\n",
    "frames = [df, train, test] # List of DataFrames\n",
    "for _ in frames: #Loop through the list\n",
    "    map_dictionary(_,\"BsmtExposure\",exposure_dict)"
   ]
  },
  {
   "cell_type": "code",
   "execution_count": 72,
   "metadata": {
    "collapsed": true
   },
   "outputs": [],
   "source": [
    "# Create a for loop to map fintype dictionary for each given data frame\n",
    "frames = [df, train, test] # List of DataFrames\n",
    "for _ in frames: #Loop through the list\n",
    "    map_dictionary(_,\"BsmtFinType1\",fintype_dict)\n",
    "    map_dictionary(_,\"BsmtFinType2\",fintype_dict)"
   ]
  },
  {
   "cell_type": "markdown",
   "metadata": {},
   "source": [
    "#### II. Correlations"
   ]
  },
  {
   "cell_type": "code",
   "execution_count": 73,
   "metadata": {},
   "outputs": [
    {
     "data": {
      "image/png": "[encoded data removed]",
      "text/plain": [
       "<matplotlib.figure.Figure at 0x10c529c50>"
      ]
     },
     "metadata": {},
     "output_type": "display_data"
    }
   ],
   "source": [
    "# Heatmap of Basement Features\n",
    "column_correlation(\"Bsmt\")"
   ]
  },
  {
   "cell_type": "markdown",
   "metadata": {},
   "source": [
    "#### III. Drop Redundant Columns"
   ]
  },
  {
   "cell_type": "code",
   "execution_count": 74,
   "metadata": {},
   "outputs": [
    {
     "name": "stdout",
     "output_type": "stream",
     "text": [
      "New shape of DataFrame: (2908, 77)\n"
     ]
    }
   ],
   "source": [
    "# Print the shape of the dataframe\n",
    "shape_of_dataframe(df)"
   ]
  },
  {
   "cell_type": "code",
   "execution_count": 75,
   "metadata": {
    "collapsed": true
   },
   "outputs": [],
   "source": [
    "# For df: Drop corresponding columns \n",
    "drop_redundants(df,[\"BsmtCond\",\"BsmtFinType1\",\"BsmtFinType2\"])\n",
    "\n",
    "# For train: Drop corresponding columns \n",
    "drop_redundants(train,[\"BsmtCond\",\"BsmtFinType1\",\"BsmtFinType2\"])\n",
    "\n",
    "# For test: Drop corresponding columns\n",
    "drop_redundants(test,[\"BsmtCond\",\"BsmtFinType1\",\"BsmtFinType2\"])"
   ]
  },
  {
   "cell_type": "code",
   "execution_count": 76,
   "metadata": {},
   "outputs": [
    {
     "name": "stdout",
     "output_type": "stream",
     "text": [
      "New shape of DataFrame: (2908, 74)\n"
     ]
    }
   ],
   "source": [
    "# Print the shape of the dataframe\n",
    "shape_of_dataframe(df)"
   ]
  },
  {
   "cell_type": "markdown",
   "metadata": {},
   "source": [
    "### D. Lot"
   ]
  },
  {
   "cell_type": "markdown",
   "metadata": {},
   "source": [
    "#### I. Inspect "
   ]
  },
  {
   "cell_type": "code",
   "execution_count": 77,
   "metadata": {
    "scrolled": true
   },
   "outputs": [
    {
     "name": "stdout",
     "output_type": "stream",
     "text": [
      "Display part of DataFrame:\n",
      "\n",
      "   LotArea LotConfig  LotFrontage LotShape\n",
      "0    13517   CulDSac          NaN      IR1\n",
      "1    11492   CulDSac         43.0      IR1\n",
      "==============================================================\n",
      "Description:\n",
      "\n",
      "             LotArea  LotFrontage\n",
      "count    2908.000000  2423.000000\n",
      "mean    10103.001376    69.025175\n",
      "std      7799.763395    22.802707\n",
      "min      1300.000000    21.000000\n",
      "25%      7423.000000    58.000000\n",
      "50%      9422.000000    68.000000\n",
      "75%     11503.000000    80.000000\n",
      "max    215245.000000   313.000000\n",
      "==============================================================\n",
      "Data Types:\n",
      "\n",
      "LotArea          int64\n",
      "LotConfig       object\n",
      "LotFrontage    float64\n",
      "LotShape        object\n",
      "dtype: object\n",
      "==============================================================\n",
      "Number of Null Values:\n",
      "\n",
      "LotArea          0\n",
      "LotConfig        0\n",
      "LotFrontage    485\n",
      "LotShape         0\n",
      "dtype: int64\n",
      "==============================================================\n"
     ]
    }
   ],
   "source": [
    "# Print Lot info\n",
    "column_inspection(\"Lot\")"
   ]
  },
  {
   "cell_type": "markdown",
   "metadata": {},
   "source": [
    "##### Ia. Dealing with Categoricals "
   ]
  },
  {
   "cell_type": "code",
   "execution_count": 78,
   "metadata": {},
   "outputs": [
    {
     "data": {
      "text/plain": [
       "LotConfig    5\n",
       "LotShape     4\n",
       "dtype: int64"
      ]
     },
     "execution_count": 78,
     "metadata": {},
     "output_type": "execute_result"
    }
   ],
   "source": [
    "# Select all categoricals from Lot to change to numericals\n",
    "column_filter(\"Lot\").select_dtypes(include=['object']).nunique()"
   ]
  },
  {
   "cell_type": "code",
   "execution_count": 79,
   "metadata": {
    "scrolled": true
   },
   "outputs": [
    {
     "name": "stdout",
     "output_type": "stream",
     "text": [
      "LotConfig:\n",
      "['CulDSac' 'Inside' 'Corner' 'FR2' 'FR3']\n",
      "LotShape\n",
      "['IR1' 'Reg' 'IR2' 'IR3']\n"
     ]
    }
   ],
   "source": [
    "# View all unique \n",
    "print(\"LotConfig:\")\n",
    "view_unique_cat(\"LotConfig\")\n",
    "print(\"LotShape\")\n",
    "view_unique_cat(\"LotShape\")"
   ]
  },
  {
   "cell_type": "code",
   "execution_count": 80,
   "metadata": {
    "collapsed": true
   },
   "outputs": [],
   "source": [
    "# For df: \n",
    "df = pd.get_dummies(df,columns=[\"LotConfig\",\"LotShape\"],drop_first=False)\n",
    "# For train: \n",
    "train = pd.get_dummies(train,columns=[\"LotConfig\",\"LotShape\"],drop_first=False)\n",
    "# For test: \n",
    "test = pd.get_dummies(test,columns=[\"LotConfig\",\"LotShape\"],drop_first=False)"
   ]
  },
  {
   "cell_type": "markdown",
   "metadata": {},
   "source": [
    "#### II. Correlations"
   ]
  },
  {
   "cell_type": "code",
   "execution_count": 81,
   "metadata": {},
   "outputs": [
    {
     "data": {
      "image/png": "[encoded data removed]",
      "text/plain": [
       "<matplotlib.figure.Figure at 0x10c3f6208>"
      ]
     },
     "metadata": {},
     "output_type": "display_data"
    }
   ],
   "source": [
    "# Heatmap of Lot Features\n",
    "column_correlation(\"Lot\")"
   ]
  },
  {
   "cell_type": "markdown",
   "metadata": {},
   "source": [
    "#### V. Handle Missing Values"
   ]
  },
  {
   "cell_type": "code",
   "execution_count": 82,
   "metadata": {},
   "outputs": [
    {
     "data": {
      "text/html": [
       "<div>\n",
       "<style>\n",
       "    .dataframe thead tr:only-child th {\n",
       "        text-align: right;\n",
       "    }\n",
       "\n",
       "    .dataframe thead th {\n",
       "        text-align: left;\n",
       "    }\n",
       "\n",
       "    .dataframe tbody tr th {\n",
       "        vertical-align: top;\n",
       "    }\n",
       "</style>\n",
       "<table border=\"1\" class=\"dataframe\">\n",
       "  <thead>\n",
       "    <tr style=\"text-align: right;\">\n",
       "      <th></th>\n",
       "      <th>1stFlrSF</th>\n",
       "      <th>2ndFlrSF</th>\n",
       "      <th>3SsnPorch</th>\n",
       "      <th>Alley</th>\n",
       "      <th>BedroomAbvGr</th>\n",
       "      <th>BldgType</th>\n",
       "      <th>BsmtExposure</th>\n",
       "      <th>BsmtQual</th>\n",
       "      <th>BsmtUnfSF</th>\n",
       "      <th>BsmtFinSF1</th>\n",
       "      <th>BsmtFinSF2</th>\n",
       "      <th>CentralAir</th>\n",
       "      <th>Condition1</th>\n",
       "      <th>Condition2</th>\n",
       "      <th>Electrical</th>\n",
       "      <th>EnclosedPorch</th>\n",
       "      <th>ExterCond</th>\n",
       "      <th>ExterQual</th>\n",
       "      <th>Exterior1st</th>\n",
       "      <th>Exterior2nd</th>\n",
       "      <th>Fence</th>\n",
       "      <th>FireplaceQu</th>\n",
       "      <th>Fireplaces</th>\n",
       "      <th>Foundation</th>\n",
       "      <th>Functional</th>\n",
       "      <th>GarageArea</th>\n",
       "      <th>GarageFinish</th>\n",
       "      <th>GarageQual</th>\n",
       "      <th>GarageType</th>\n",
       "      <th>GarageYrBlt</th>\n",
       "      <th>GrLivArea</th>\n",
       "      <th>Heating</th>\n",
       "      <th>HeatingQC</th>\n",
       "      <th>HouseStyle</th>\n",
       "      <th>Id</th>\n",
       "      <th>KitchenAbvGr</th>\n",
       "      <th>KitchenQual</th>\n",
       "      <th>LandContour</th>\n",
       "      <th>LandSlope</th>\n",
       "      <th>LotArea</th>\n",
       "      <th>LotFrontage</th>\n",
       "      <th>LowQualFinSF</th>\n",
       "      <th>MSSubClass</th>\n",
       "      <th>MSZoning</th>\n",
       "      <th>MasVnrArea</th>\n",
       "      <th>MasVnrType</th>\n",
       "      <th>MiscFeature</th>\n",
       "      <th>MiscVal</th>\n",
       "      <th>MoSold</th>\n",
       "      <th>Neighborhood</th>\n",
       "      <th>OpenPorchSF</th>\n",
       "      <th>OverallCond</th>\n",
       "      <th>OverallQual</th>\n",
       "      <th>PID</th>\n",
       "      <th>PavedDrive</th>\n",
       "      <th>PoolArea</th>\n",
       "      <th>PoolQC</th>\n",
       "      <th>RoofMatl</th>\n",
       "      <th>RoofStyle</th>\n",
       "      <th>SaleCondition</th>\n",
       "      <th>SaleType</th>\n",
       "      <th>SalePrice</th>\n",
       "      <th>ScreenPorch</th>\n",
       "      <th>Street</th>\n",
       "      <th>TotRmsAbvGrd</th>\n",
       "      <th>TotalBsmtSF</th>\n",
       "      <th>Utilities</th>\n",
       "      <th>WoodDeckSF</th>\n",
       "      <th>YearBuilt</th>\n",
       "      <th>YearRemod/Add</th>\n",
       "      <th>YrSold</th>\n",
       "      <th>Bath</th>\n",
       "      <th>LotConfig_Corner</th>\n",
       "      <th>LotConfig_CulDSac</th>\n",
       "      <th>LotConfig_FR2</th>\n",
       "      <th>LotConfig_FR3</th>\n",
       "      <th>LotConfig_Inside</th>\n",
       "      <th>LotShape_IR1</th>\n",
       "      <th>LotShape_IR2</th>\n",
       "      <th>LotShape_IR3</th>\n",
       "      <th>LotShape_Reg</th>\n",
       "    </tr>\n",
       "  </thead>\n",
       "  <tbody>\n",
       "    <tr>\n",
       "      <th>0</th>\n",
       "      <td>725</td>\n",
       "      <td>754</td>\n",
       "      <td>0</td>\n",
       "      <td>NaN</td>\n",
       "      <td>3</td>\n",
       "      <td>1Fam</td>\n",
       "      <td>1</td>\n",
       "      <td>3</td>\n",
       "      <td>192.0</td>\n",
       "      <td>533.0</td>\n",
       "      <td>0.0</td>\n",
       "      <td>Y</td>\n",
       "      <td>RRAe</td>\n",
       "      <td>Norm</td>\n",
       "      <td>SBrkr</td>\n",
       "      <td>0</td>\n",
       "      <td>TA</td>\n",
       "      <td>Gd</td>\n",
       "      <td>HdBoard</td>\n",
       "      <td>Plywood</td>\n",
       "      <td>NaN</td>\n",
       "      <td>NaN</td>\n",
       "      <td>0</td>\n",
       "      <td>CBlock</td>\n",
       "      <td>Typ</td>\n",
       "      <td>475.0</td>\n",
       "      <td>0</td>\n",
       "      <td>3</td>\n",
       "      <td>6</td>\n",
       "      <td>1976.0</td>\n",
       "      <td>1479</td>\n",
       "      <td>GasA</td>\n",
       "      <td>Ex</td>\n",
       "      <td>2Story</td>\n",
       "      <td>109</td>\n",
       "      <td>1</td>\n",
       "      <td>Gd</td>\n",
       "      <td>Lvl</td>\n",
       "      <td>Gtl</td>\n",
       "      <td>13517</td>\n",
       "      <td>NaN</td>\n",
       "      <td>0</td>\n",
       "      <td>60</td>\n",
       "      <td>RL</td>\n",
       "      <td>289.0</td>\n",
       "      <td>BrkFace</td>\n",
       "      <td>NaN</td>\n",
       "      <td>0</td>\n",
       "      <td>3</td>\n",
       "      <td>Sawyer</td>\n",
       "      <td>44</td>\n",
       "      <td>8</td>\n",
       "      <td>6</td>\n",
       "      <td>533352170</td>\n",
       "      <td>Y</td>\n",
       "      <td>0</td>\n",
       "      <td>NaN</td>\n",
       "      <td>CompShg</td>\n",
       "      <td>Gable</td>\n",
       "      <td>Normal</td>\n",
       "      <td>WD</td>\n",
       "      <td>130500.0</td>\n",
       "      <td>0</td>\n",
       "      <td>Pave</td>\n",
       "      <td>6</td>\n",
       "      <td>725.0</td>\n",
       "      <td>AllPub</td>\n",
       "      <td>0</td>\n",
       "      <td>1976</td>\n",
       "      <td>2005</td>\n",
       "      <td>2010</td>\n",
       "      <td>2.5</td>\n",
       "      <td>0</td>\n",
       "      <td>1</td>\n",
       "      <td>0</td>\n",
       "      <td>0</td>\n",
       "      <td>0</td>\n",
       "      <td>1</td>\n",
       "      <td>0</td>\n",
       "      <td>0</td>\n",
       "      <td>0</td>\n",
       "    </tr>\n",
       "    <tr>\n",
       "      <th>7</th>\n",
       "      <td>1188</td>\n",
       "      <td>0</td>\n",
       "      <td>0</td>\n",
       "      <td>NaN</td>\n",
       "      <td>3</td>\n",
       "      <td>1Fam</td>\n",
       "      <td>1</td>\n",
       "      <td>3</td>\n",
       "      <td>188.0</td>\n",
       "      <td>1000.0</td>\n",
       "      <td>0.0</td>\n",
       "      <td>Y</td>\n",
       "      <td>Norm</td>\n",
       "      <td>Norm</td>\n",
       "      <td>SBrkr</td>\n",
       "      <td>0</td>\n",
       "      <td>TA</td>\n",
       "      <td>TA</td>\n",
       "      <td>Plywood</td>\n",
       "      <td>Plywood</td>\n",
       "      <td>MnPrv</td>\n",
       "      <td>NaN</td>\n",
       "      <td>0</td>\n",
       "      <td>CBlock</td>\n",
       "      <td>Typ</td>\n",
       "      <td>531.0</td>\n",
       "      <td>0</td>\n",
       "      <td>3</td>\n",
       "      <td>6</td>\n",
       "      <td>1959.0</td>\n",
       "      <td>1188</td>\n",
       "      <td>GasA</td>\n",
       "      <td>Fa</td>\n",
       "      <td>1Story</td>\n",
       "      <td>145</td>\n",
       "      <td>1</td>\n",
       "      <td>TA</td>\n",
       "      <td>Lvl</td>\n",
       "      <td>Gtl</td>\n",
       "      <td>12160</td>\n",
       "      <td>NaN</td>\n",
       "      <td>0</td>\n",
       "      <td>20</td>\n",
       "      <td>RL</td>\n",
       "      <td>180.0</td>\n",
       "      <td>BrkFace</td>\n",
       "      <td>NaN</td>\n",
       "      <td>0</td>\n",
       "      <td>5</td>\n",
       "      <td>NAmes</td>\n",
       "      <td>0</td>\n",
       "      <td>5</td>\n",
       "      <td>5</td>\n",
       "      <td>535154050</td>\n",
       "      <td>Y</td>\n",
       "      <td>0</td>\n",
       "      <td>NaN</td>\n",
       "      <td>CompShg</td>\n",
       "      <td>Hip</td>\n",
       "      <td>Abnorml</td>\n",
       "      <td>COD</td>\n",
       "      <td>142000.0</td>\n",
       "      <td>0</td>\n",
       "      <td>Pave</td>\n",
       "      <td>6</td>\n",
       "      <td>1188.0</td>\n",
       "      <td>AllPub</td>\n",
       "      <td>0</td>\n",
       "      <td>1959</td>\n",
       "      <td>1959</td>\n",
       "      <td>2010</td>\n",
       "      <td>2.0</td>\n",
       "      <td>0</td>\n",
       "      <td>0</td>\n",
       "      <td>0</td>\n",
       "      <td>0</td>\n",
       "      <td>1</td>\n",
       "      <td>1</td>\n",
       "      <td>0</td>\n",
       "      <td>0</td>\n",
       "      <td>0</td>\n",
       "    </tr>\n",
       "  </tbody>\n",
       "</table>\n",
       "</div>"
      ],
      "text/plain": [
       "   1stFlrSF  2ndFlrSF  3SsnPorch Alley  BedroomAbvGr BldgType  BsmtExposure  \\\n",
       "0       725       754          0   NaN             3     1Fam             1   \n",
       "7      1188         0          0   NaN             3     1Fam             1   \n",
       "\n",
       "   BsmtQual  BsmtUnfSF  BsmtFinSF1  BsmtFinSF2 CentralAir Condition1  \\\n",
       "0         3      192.0       533.0         0.0          Y       RRAe   \n",
       "7         3      188.0      1000.0         0.0          Y       Norm   \n",
       "\n",
       "  Condition2 Electrical  EnclosedPorch ExterCond ExterQual Exterior1st  \\\n",
       "0       Norm      SBrkr              0        TA        Gd     HdBoard   \n",
       "7       Norm      SBrkr              0        TA        TA     Plywood   \n",
       "\n",
       "  Exterior2nd  Fence FireplaceQu  Fireplaces Foundation Functional  \\\n",
       "0     Plywood    NaN         NaN           0     CBlock        Typ   \n",
       "7     Plywood  MnPrv         NaN           0     CBlock        Typ   \n",
       "\n",
       "   GarageArea  GarageFinish  GarageQual  GarageType  GarageYrBlt  GrLivArea  \\\n",
       "0       475.0             0           3           6       1976.0       1479   \n",
       "7       531.0             0           3           6       1959.0       1188   \n",
       "\n",
       "  Heating HeatingQC HouseStyle   Id  KitchenAbvGr KitchenQual LandContour  \\\n",
       "0    GasA        Ex     2Story  109             1          Gd         Lvl   \n",
       "7    GasA        Fa     1Story  145             1          TA         Lvl   \n",
       "\n",
       "  LandSlope  LotArea  LotFrontage  LowQualFinSF  MSSubClass MSZoning  \\\n",
       "0       Gtl    13517          NaN             0          60       RL   \n",
       "7       Gtl    12160          NaN             0          20       RL   \n",
       "\n",
       "   MasVnrArea MasVnrType MiscFeature  MiscVal  MoSold Neighborhood  \\\n",
       "0       289.0    BrkFace         NaN        0       3       Sawyer   \n",
       "7       180.0    BrkFace         NaN        0       5        NAmes   \n",
       "\n",
       "   OpenPorchSF  OverallCond  OverallQual        PID PavedDrive  PoolArea  \\\n",
       "0           44            8            6  533352170          Y         0   \n",
       "7            0            5            5  535154050          Y         0   \n",
       "\n",
       "  PoolQC RoofMatl RoofStyle SaleCondition SaleType  SalePrice  ScreenPorch  \\\n",
       "0    NaN  CompShg     Gable        Normal      WD    130500.0            0   \n",
       "7    NaN  CompShg       Hip       Abnorml      COD   142000.0            0   \n",
       "\n",
       "  Street  TotRmsAbvGrd  TotalBsmtSF Utilities  WoodDeckSF  YearBuilt  \\\n",
       "0   Pave             6        725.0    AllPub           0       1976   \n",
       "7   Pave             6       1188.0    AllPub           0       1959   \n",
       "\n",
       "   YearRemod/Add  YrSold  Bath  LotConfig_Corner  LotConfig_CulDSac  \\\n",
       "0           2005    2010   2.5                 0                  1   \n",
       "7           1959    2010   2.0                 0                  0   \n",
       "\n",
       "   LotConfig_FR2  LotConfig_FR3  LotConfig_Inside  LotShape_IR1  LotShape_IR2  \\\n",
       "0              0              0                 0             1             0   \n",
       "7              0              0                 1             1             0   \n",
       "\n",
       "   LotShape_IR3  LotShape_Reg  \n",
       "0             0             0  \n",
       "7             0             0  "
      ]
     },
     "execution_count": 82,
     "metadata": {},
     "output_type": "execute_result"
    }
   ],
   "source": [
    "# Locate Nulls For LotFrontage\n",
    "loc_missing(df,\"LotFrontage\").head(2)"
   ]
  },
  {
   "cell_type": "code",
   "execution_count": 83,
   "metadata": {},
   "outputs": [
    {
     "data": {
      "text/plain": [
       "16.678"
      ]
     },
     "execution_count": 83,
     "metadata": {},
     "output_type": "execute_result"
    }
   ],
   "source": [
    "# Print percentage of missing nulls in LotFrontage\n",
    "percent_missing(df,\"LotFrontage\")"
   ]
  },
  {
   "cell_type": "code",
   "execution_count": 84,
   "metadata": {},
   "outputs": [
    {
     "name": "stdout",
     "output_type": "stream",
     "text": [
      "New shape of DataFrame: (2908, 81)\n"
     ]
    }
   ],
   "source": [
    "# Print the shape of the dataframe\n",
    "shape_of_dataframe(df)"
   ]
  },
  {
   "cell_type": "code",
   "execution_count": 85,
   "metadata": {
    "scrolled": true
   },
   "outputs": [
    {
     "data": {
      "image/png": "[encoded data removed]",
      "text/plain": [
       "<matplotlib.figure.Figure at 0x10c543ef0>"
      ]
     },
     "metadata": {},
     "output_type": "display_data"
    }
   ],
   "source": [
    "box_plots(df,\"LotFrontage\")"
   ]
  },
  {
   "cell_type": "code",
   "execution_count": 86,
   "metadata": {
    "collapsed": true
   },
   "outputs": [],
   "source": [
    "# Create a for loop to fill in columns for each given DataFrame\n",
    "frames = [df, train, test] # List of DataFrames\n",
    "for _ in frames: #Loop through the list\n",
    "    _.LotFrontage.fillna(70,axis=0,inplace = True)"
   ]
  },
  {
   "cell_type": "code",
   "execution_count": 87,
   "metadata": {
    "collapsed": true
   },
   "outputs": [],
   "source": [
    "# For df: Drop anything greater than 150\n",
    "df = df.loc[(df[\"LotFrontage\"]<150),:]\n",
    "\n",
    "# For train: Drop anything greater than 150\n",
    "train = train.loc[(train[\"LotFrontage\"]<150),:]\n",
    "\n",
    "# For test: Drop anything greater than 150\n",
    "test = test.loc[(test[\"LotFrontage\"]<150),:]\n",
    "    "
   ]
  },
  {
   "cell_type": "code",
   "execution_count": 88,
   "metadata": {},
   "outputs": [
    {
     "name": "stdout",
     "output_type": "stream",
     "text": [
      "New shape of DataFrame: (2893, 81)\n"
     ]
    }
   ],
   "source": [
    "# Print the shape of the dataframe\n",
    "shape_of_dataframe(df)"
   ]
  },
  {
   "cell_type": "markdown",
   "metadata": {},
   "source": [
    "#### VI. Check Outliers"
   ]
  },
  {
   "cell_type": "code",
   "execution_count": 89,
   "metadata": {
    "collapsed": true
   },
   "outputs": [],
   "source": [
    "# Create a list to boxplot\n",
    "lot_list = column_filter('Lot').columns.tolist()"
   ]
  },
  {
   "cell_type": "code",
   "execution_count": 90,
   "metadata": {},
   "outputs": [
    {
     "data": {
      "image/png": "[encoded data removed]",
      "text/plain": [
       "<matplotlib.figure.Figure at 0x10bfbc6a0>"
      ]
     },
     "metadata": {},
     "output_type": "display_data"
    },
    {
     "data": {
      "image/png": "[encoded data removed]",
      "text/plain": [
       "<matplotlib.figure.Figure at 0x10ccc0390>"
      ]
     },
     "metadata": {},
     "output_type": "display_data"
    },
    {
     "data": {
      "image/png": "[encoded data removed]",
      "text/plain": [
       "<matplotlib.figure.Figure at 0x10c08deb8>"
      ]
     },
     "metadata": {},
     "output_type": "display_data"
    },
    {
     "data": {
      "image/png": "[encoded data removed]",
      "text/plain": [
       "<matplotlib.figure.Figure at 0x10c374710>"
      ]
     },
     "metadata": {},
     "output_type": "display_data"
    },
    {
     "data": {
      "image/png": "[encoded data removed]",
      "text/plain": [
       "<matplotlib.figure.Figure at 0x10c7a7fd0>"
      ]
     },
     "metadata": {},
     "output_type": "display_data"
    },
    {
     "data": {
      "image/png": "[encoded data removed]",
      "text/plain": [
       "<matplotlib.figure.Figure at 0x10bfc9da0>"
      ]
     },
     "metadata": {},
     "output_type": "display_data"
    },
    {
     "data": {
      "image/png": "[encoded data removed]",
      "text/plain": [
       "<matplotlib.figure.Figure at 0x10c8227b8>"
      ]
     },
     "metadata": {},
     "output_type": "display_data"
    },
    {
     "data": {
      "image/png": "[encoded data removed]",
      "text/plain": [
       "<matplotlib.figure.Figure at 0x10c87c7f0>"
      ]
     },
     "metadata": {},
     "output_type": "display_data"
    },
    {
     "data": {
      "image/png": "[encoded data removed]",
      "text/plain": [
       "<matplotlib.figure.Figure at 0x10c8deeb8>"
      ]
     },
     "metadata": {},
     "output_type": "display_data"
    },
    {
     "data": {
      "image/png": "[encoded data removed]",
      "text/plain": [
       "<matplotlib.figure.Figure at 0x10d848e10>"
      ]
     },
     "metadata": {},
     "output_type": "display_data"
    },
    {
     "data": {
      "image/png": "[encoded data removed]",
      "text/plain": [
       "<matplotlib.figure.Figure at 0x10da8da58>"
      ]
     },
     "metadata": {},
     "output_type": "display_data"
    }
   ],
   "source": [
    "# Create a for loop to plot\n",
    "for a in lot_list:\n",
    "    box_plots(df,a)"
   ]
  },
  {
   "cell_type": "code",
   "execution_count": 91,
   "metadata": {
    "collapsed": true
   },
   "outputs": [],
   "source": [
    "# For df: Drop anything greater than 50000 for LotArea\n",
    "df = df.loc[(df[\"LotArea\"]<50000),:]\n",
    "\n",
    "# For train: Drop anything greater than 50000 for LotArea\n",
    "train = train.loc[(train[\"LotArea\"]<50000),:]\n",
    "\n",
    "# For test: Drop anything greater than 50000 for LotArea\n",
    "test = test.loc[(test[\"LotArea\"]<50000),:]\n",
    "    "
   ]
  },
  {
   "cell_type": "markdown",
   "metadata": {},
   "source": [
    "### E. Kitchen"
   ]
  },
  {
   "cell_type": "markdown",
   "metadata": {},
   "source": [
    "#### I. Inspect"
   ]
  },
  {
   "cell_type": "code",
   "execution_count": 92,
   "metadata": {
    "scrolled": true
   },
   "outputs": [
    {
     "name": "stdout",
     "output_type": "stream",
     "text": [
      "Display part of DataFrame:\n",
      "\n",
      "   KitchenAbvGr KitchenQual\n",
      "0             1          Gd\n",
      "1             1          Gd\n",
      "==============================================================\n",
      "Description:\n",
      "\n",
      "       KitchenAbvGr\n",
      "count   2881.000000\n",
      "mean       1.043041\n",
      "std        0.211364\n",
      "min        0.000000\n",
      "25%        1.000000\n",
      "50%        1.000000\n",
      "75%        1.000000\n",
      "max        3.000000\n",
      "==============================================================\n",
      "Data Types:\n",
      "\n",
      "KitchenAbvGr     int64\n",
      "KitchenQual     object\n",
      "dtype: object\n",
      "==============================================================\n",
      "Number of Null Values:\n",
      "\n",
      "KitchenAbvGr    0\n",
      "KitchenQual     0\n",
      "dtype: int64\n",
      "==============================================================\n"
     ]
    }
   ],
   "source": [
    "# Filter Kitchen\n",
    "column_inspection(\"Kitchen\")"
   ]
  },
  {
   "cell_type": "markdown",
   "metadata": {},
   "source": [
    "##### Ia. Dealing with Categoricals "
   ]
  },
  {
   "cell_type": "code",
   "execution_count": 93,
   "metadata": {},
   "outputs": [
    {
     "data": {
      "text/plain": [
       "KitchenQual    5\n",
       "dtype: int64"
      ]
     },
     "execution_count": 93,
     "metadata": {},
     "output_type": "execute_result"
    }
   ],
   "source": [
    "# Select all categoricals from Kitchen to change to numericals\n",
    "column_filter(\"Kitchen\").select_dtypes(include=['object']).nunique()"
   ]
  },
  {
   "cell_type": "code",
   "execution_count": 94,
   "metadata": {},
   "outputs": [
    {
     "name": "stdout",
     "output_type": "stream",
     "text": [
      "KitchenQual:\n",
      "['Gd' 'TA' 'Fa' 'Ex' 'Po']\n"
     ]
    }
   ],
   "source": [
    "# View all unique \n",
    "print(\"KitchenQual:\")\n",
    "view_unique_cat(\"KitchenQual\")"
   ]
  },
  {
   "cell_type": "code",
   "execution_count": 95,
   "metadata": {
    "collapsed": true
   },
   "outputs": [],
   "source": [
    "# Create a for loop to map condition dictionary for each given data frame\n",
    "frames = [df, train, test] # List of DataFrames\n",
    "for _ in frames: #Loop through the list\n",
    "    map_dictionary(_,\"KitchenQual\",condition_dict)"
   ]
  },
  {
   "cell_type": "markdown",
   "metadata": {},
   "source": [
    "#### II. Correlations"
   ]
  },
  {
   "cell_type": "code",
   "execution_count": 96,
   "metadata": {},
   "outputs": [
    {
     "data": {
      "image/png": "[encoded data removed]",
      "text/plain": [
       "<matplotlib.figure.Figure at 0x10dcbbef0>"
      ]
     },
     "metadata": {},
     "output_type": "display_data"
    }
   ],
   "source": [
    "# Heatmap of Kitchen Features\n",
    "column_correlation(\"Kitchen\")"
   ]
  },
  {
   "cell_type": "markdown",
   "metadata": {},
   "source": [
    "### F. Pool"
   ]
  },
  {
   "cell_type": "markdown",
   "metadata": {},
   "source": [
    "#### I. Inspect"
   ]
  },
  {
   "cell_type": "code",
   "execution_count": 97,
   "metadata": {},
   "outputs": [
    {
     "name": "stdout",
     "output_type": "stream",
     "text": [
      "Display part of DataFrame:\n",
      "\n",
      "   PoolArea PoolQC\n",
      "0         0    NaN\n",
      "1         0    NaN\n",
      "==============================================================\n",
      "Description:\n",
      "\n",
      "          PoolArea\n",
      "count  2881.000000\n",
      "mean      1.549809\n",
      "std      30.069625\n",
      "min       0.000000\n",
      "25%       0.000000\n",
      "50%       0.000000\n",
      "75%       0.000000\n",
      "max     800.000000\n",
      "==============================================================\n",
      "Data Types:\n",
      "\n",
      "PoolArea     int64\n",
      "PoolQC      object\n",
      "dtype: object\n",
      "==============================================================\n",
      "Number of Null Values:\n",
      "\n",
      "PoolArea       0\n",
      "PoolQC      2872\n",
      "dtype: int64\n",
      "==============================================================\n"
     ]
    }
   ],
   "source": [
    "# Column inspection for Pool\n",
    "column_inspection(\"Pool\")"
   ]
  },
  {
   "cell_type": "markdown",
   "metadata": {},
   "source": [
    "#### II. Handle Missing Values"
   ]
  },
  {
   "cell_type": "code",
   "execution_count": 98,
   "metadata": {},
   "outputs": [
    {
     "data": {
      "text/html": [
       "<div>\n",
       "<style>\n",
       "    .dataframe thead tr:only-child th {\n",
       "        text-align: right;\n",
       "    }\n",
       "\n",
       "    .dataframe thead th {\n",
       "        text-align: left;\n",
       "    }\n",
       "\n",
       "    .dataframe tbody tr th {\n",
       "        vertical-align: top;\n",
       "    }\n",
       "</style>\n",
       "<table border=\"1\" class=\"dataframe\">\n",
       "  <thead>\n",
       "    <tr style=\"text-align: right;\">\n",
       "      <th></th>\n",
       "      <th>1stFlrSF</th>\n",
       "      <th>2ndFlrSF</th>\n",
       "      <th>3SsnPorch</th>\n",
       "      <th>Alley</th>\n",
       "      <th>BedroomAbvGr</th>\n",
       "      <th>BldgType</th>\n",
       "      <th>BsmtExposure</th>\n",
       "      <th>BsmtQual</th>\n",
       "      <th>BsmtUnfSF</th>\n",
       "      <th>BsmtFinSF1</th>\n",
       "      <th>BsmtFinSF2</th>\n",
       "      <th>CentralAir</th>\n",
       "      <th>Condition1</th>\n",
       "      <th>Condition2</th>\n",
       "      <th>Electrical</th>\n",
       "      <th>EnclosedPorch</th>\n",
       "      <th>ExterCond</th>\n",
       "      <th>ExterQual</th>\n",
       "      <th>Exterior1st</th>\n",
       "      <th>Exterior2nd</th>\n",
       "      <th>Fence</th>\n",
       "      <th>FireplaceQu</th>\n",
       "      <th>Fireplaces</th>\n",
       "      <th>Foundation</th>\n",
       "      <th>Functional</th>\n",
       "      <th>GarageArea</th>\n",
       "      <th>GarageFinish</th>\n",
       "      <th>GarageQual</th>\n",
       "      <th>GarageType</th>\n",
       "      <th>GarageYrBlt</th>\n",
       "      <th>GrLivArea</th>\n",
       "      <th>Heating</th>\n",
       "      <th>HeatingQC</th>\n",
       "      <th>HouseStyle</th>\n",
       "      <th>Id</th>\n",
       "      <th>KitchenAbvGr</th>\n",
       "      <th>KitchenQual</th>\n",
       "      <th>LandContour</th>\n",
       "      <th>LandSlope</th>\n",
       "      <th>LotArea</th>\n",
       "      <th>LotFrontage</th>\n",
       "      <th>LowQualFinSF</th>\n",
       "      <th>MSSubClass</th>\n",
       "      <th>MSZoning</th>\n",
       "      <th>MasVnrArea</th>\n",
       "      <th>MasVnrType</th>\n",
       "      <th>MiscFeature</th>\n",
       "      <th>MiscVal</th>\n",
       "      <th>MoSold</th>\n",
       "      <th>Neighborhood</th>\n",
       "      <th>OpenPorchSF</th>\n",
       "      <th>OverallCond</th>\n",
       "      <th>OverallQual</th>\n",
       "      <th>PID</th>\n",
       "      <th>PavedDrive</th>\n",
       "      <th>PoolArea</th>\n",
       "      <th>PoolQC</th>\n",
       "      <th>RoofMatl</th>\n",
       "      <th>RoofStyle</th>\n",
       "      <th>SaleCondition</th>\n",
       "      <th>SaleType</th>\n",
       "      <th>SalePrice</th>\n",
       "      <th>ScreenPorch</th>\n",
       "      <th>Street</th>\n",
       "      <th>TotRmsAbvGrd</th>\n",
       "      <th>TotalBsmtSF</th>\n",
       "      <th>Utilities</th>\n",
       "      <th>WoodDeckSF</th>\n",
       "      <th>YearBuilt</th>\n",
       "      <th>YearRemod/Add</th>\n",
       "      <th>YrSold</th>\n",
       "      <th>Bath</th>\n",
       "      <th>LotConfig_Corner</th>\n",
       "      <th>LotConfig_CulDSac</th>\n",
       "      <th>LotConfig_FR2</th>\n",
       "      <th>LotConfig_FR3</th>\n",
       "      <th>LotConfig_Inside</th>\n",
       "      <th>LotShape_IR1</th>\n",
       "      <th>LotShape_IR2</th>\n",
       "      <th>LotShape_IR3</th>\n",
       "      <th>LotShape_Reg</th>\n",
       "    </tr>\n",
       "  </thead>\n",
       "  <tbody>\n",
       "    <tr>\n",
       "      <th>0</th>\n",
       "      <td>725</td>\n",
       "      <td>754</td>\n",
       "      <td>0</td>\n",
       "      <td>NaN</td>\n",
       "      <td>3</td>\n",
       "      <td>1Fam</td>\n",
       "      <td>1</td>\n",
       "      <td>3</td>\n",
       "      <td>192.0</td>\n",
       "      <td>533.0</td>\n",
       "      <td>0.0</td>\n",
       "      <td>Y</td>\n",
       "      <td>RRAe</td>\n",
       "      <td>Norm</td>\n",
       "      <td>SBrkr</td>\n",
       "      <td>0</td>\n",
       "      <td>TA</td>\n",
       "      <td>Gd</td>\n",
       "      <td>HdBoard</td>\n",
       "      <td>Plywood</td>\n",
       "      <td>NaN</td>\n",
       "      <td>NaN</td>\n",
       "      <td>0</td>\n",
       "      <td>CBlock</td>\n",
       "      <td>Typ</td>\n",
       "      <td>475.0</td>\n",
       "      <td>0</td>\n",
       "      <td>3</td>\n",
       "      <td>6</td>\n",
       "      <td>1976.0</td>\n",
       "      <td>1479</td>\n",
       "      <td>GasA</td>\n",
       "      <td>Ex</td>\n",
       "      <td>2Story</td>\n",
       "      <td>109</td>\n",
       "      <td>1</td>\n",
       "      <td>4</td>\n",
       "      <td>Lvl</td>\n",
       "      <td>Gtl</td>\n",
       "      <td>13517</td>\n",
       "      <td>70.0</td>\n",
       "      <td>0</td>\n",
       "      <td>60</td>\n",
       "      <td>RL</td>\n",
       "      <td>289.0</td>\n",
       "      <td>BrkFace</td>\n",
       "      <td>NaN</td>\n",
       "      <td>0</td>\n",
       "      <td>3</td>\n",
       "      <td>Sawyer</td>\n",
       "      <td>44</td>\n",
       "      <td>8</td>\n",
       "      <td>6</td>\n",
       "      <td>533352170</td>\n",
       "      <td>Y</td>\n",
       "      <td>0</td>\n",
       "      <td>NaN</td>\n",
       "      <td>CompShg</td>\n",
       "      <td>Gable</td>\n",
       "      <td>Normal</td>\n",
       "      <td>WD</td>\n",
       "      <td>130500.0</td>\n",
       "      <td>0</td>\n",
       "      <td>Pave</td>\n",
       "      <td>6</td>\n",
       "      <td>725.0</td>\n",
       "      <td>AllPub</td>\n",
       "      <td>0</td>\n",
       "      <td>1976</td>\n",
       "      <td>2005</td>\n",
       "      <td>2010</td>\n",
       "      <td>2.5</td>\n",
       "      <td>0</td>\n",
       "      <td>1</td>\n",
       "      <td>0</td>\n",
       "      <td>0</td>\n",
       "      <td>0</td>\n",
       "      <td>1</td>\n",
       "      <td>0</td>\n",
       "      <td>0</td>\n",
       "      <td>0</td>\n",
       "    </tr>\n",
       "    <tr>\n",
       "      <th>1</th>\n",
       "      <td>913</td>\n",
       "      <td>1209</td>\n",
       "      <td>0</td>\n",
       "      <td>NaN</td>\n",
       "      <td>4</td>\n",
       "      <td>1Fam</td>\n",
       "      <td>1</td>\n",
       "      <td>4</td>\n",
       "      <td>276.0</td>\n",
       "      <td>637.0</td>\n",
       "      <td>0.0</td>\n",
       "      <td>Y</td>\n",
       "      <td>Norm</td>\n",
       "      <td>Norm</td>\n",
       "      <td>SBrkr</td>\n",
       "      <td>0</td>\n",
       "      <td>TA</td>\n",
       "      <td>Gd</td>\n",
       "      <td>VinylSd</td>\n",
       "      <td>VinylSd</td>\n",
       "      <td>NaN</td>\n",
       "      <td>TA</td>\n",
       "      <td>1</td>\n",
       "      <td>PConc</td>\n",
       "      <td>Typ</td>\n",
       "      <td>559.0</td>\n",
       "      <td>0</td>\n",
       "      <td>3</td>\n",
       "      <td>6</td>\n",
       "      <td>1997.0</td>\n",
       "      <td>2122</td>\n",
       "      <td>GasA</td>\n",
       "      <td>Ex</td>\n",
       "      <td>2Story</td>\n",
       "      <td>544</td>\n",
       "      <td>1</td>\n",
       "      <td>4</td>\n",
       "      <td>Lvl</td>\n",
       "      <td>Gtl</td>\n",
       "      <td>11492</td>\n",
       "      <td>43.0</td>\n",
       "      <td>0</td>\n",
       "      <td>60</td>\n",
       "      <td>RL</td>\n",
       "      <td>132.0</td>\n",
       "      <td>BrkFace</td>\n",
       "      <td>NaN</td>\n",
       "      <td>0</td>\n",
       "      <td>4</td>\n",
       "      <td>SawyerW</td>\n",
       "      <td>74</td>\n",
       "      <td>5</td>\n",
       "      <td>7</td>\n",
       "      <td>531379050</td>\n",
       "      <td>Y</td>\n",
       "      <td>0</td>\n",
       "      <td>NaN</td>\n",
       "      <td>CompShg</td>\n",
       "      <td>Gable</td>\n",
       "      <td>Normal</td>\n",
       "      <td>WD</td>\n",
       "      <td>220000.0</td>\n",
       "      <td>0</td>\n",
       "      <td>Pave</td>\n",
       "      <td>8</td>\n",
       "      <td>913.0</td>\n",
       "      <td>AllPub</td>\n",
       "      <td>0</td>\n",
       "      <td>1996</td>\n",
       "      <td>1997</td>\n",
       "      <td>2009</td>\n",
       "      <td>3.5</td>\n",
       "      <td>0</td>\n",
       "      <td>1</td>\n",
       "      <td>0</td>\n",
       "      <td>0</td>\n",
       "      <td>0</td>\n",
       "      <td>1</td>\n",
       "      <td>0</td>\n",
       "      <td>0</td>\n",
       "      <td>0</td>\n",
       "    </tr>\n",
       "  </tbody>\n",
       "</table>\n",
       "</div>"
      ],
      "text/plain": [
       "   1stFlrSF  2ndFlrSF  3SsnPorch Alley  BedroomAbvGr BldgType  BsmtExposure  \\\n",
       "0       725       754          0   NaN             3     1Fam             1   \n",
       "1       913      1209          0   NaN             4     1Fam             1   \n",
       "\n",
       "   BsmtQual  BsmtUnfSF  BsmtFinSF1  BsmtFinSF2 CentralAir Condition1  \\\n",
       "0         3      192.0       533.0         0.0          Y       RRAe   \n",
       "1         4      276.0       637.0         0.0          Y       Norm   \n",
       "\n",
       "  Condition2 Electrical  EnclosedPorch ExterCond ExterQual Exterior1st  \\\n",
       "0       Norm      SBrkr              0        TA        Gd     HdBoard   \n",
       "1       Norm      SBrkr              0        TA        Gd     VinylSd   \n",
       "\n",
       "  Exterior2nd Fence FireplaceQu  Fireplaces Foundation Functional  GarageArea  \\\n",
       "0     Plywood   NaN         NaN           0     CBlock        Typ       475.0   \n",
       "1     VinylSd   NaN          TA           1      PConc        Typ       559.0   \n",
       "\n",
       "   GarageFinish  GarageQual  GarageType  GarageYrBlt  GrLivArea Heating  \\\n",
       "0             0           3           6       1976.0       1479    GasA   \n",
       "1             0           3           6       1997.0       2122    GasA   \n",
       "\n",
       "  HeatingQC HouseStyle   Id  KitchenAbvGr  KitchenQual LandContour LandSlope  \\\n",
       "0        Ex     2Story  109             1            4         Lvl       Gtl   \n",
       "1        Ex     2Story  544             1            4         Lvl       Gtl   \n",
       "\n",
       "   LotArea  LotFrontage  LowQualFinSF  MSSubClass MSZoning  MasVnrArea  \\\n",
       "0    13517         70.0             0          60       RL       289.0   \n",
       "1    11492         43.0             0          60       RL       132.0   \n",
       "\n",
       "  MasVnrType MiscFeature  MiscVal  MoSold Neighborhood  OpenPorchSF  \\\n",
       "0    BrkFace         NaN        0       3       Sawyer           44   \n",
       "1    BrkFace         NaN        0       4      SawyerW           74   \n",
       "\n",
       "   OverallCond  OverallQual        PID PavedDrive  PoolArea PoolQC RoofMatl  \\\n",
       "0            8            6  533352170          Y         0    NaN  CompShg   \n",
       "1            5            7  531379050          Y         0    NaN  CompShg   \n",
       "\n",
       "  RoofStyle SaleCondition SaleType  SalePrice  ScreenPorch Street  \\\n",
       "0     Gable        Normal      WD    130500.0            0   Pave   \n",
       "1     Gable        Normal      WD    220000.0            0   Pave   \n",
       "\n",
       "   TotRmsAbvGrd  TotalBsmtSF Utilities  WoodDeckSF  YearBuilt  YearRemod/Add  \\\n",
       "0             6        725.0    AllPub           0       1976           2005   \n",
       "1             8        913.0    AllPub           0       1996           1997   \n",
       "\n",
       "   YrSold  Bath  LotConfig_Corner  LotConfig_CulDSac  LotConfig_FR2  \\\n",
       "0    2010   2.5                 0                  1              0   \n",
       "1    2009   3.5                 0                  1              0   \n",
       "\n",
       "   LotConfig_FR3  LotConfig_Inside  LotShape_IR1  LotShape_IR2  LotShape_IR3  \\\n",
       "0              0                 0             1             0             0   \n",
       "1              0                 0             1             0             0   \n",
       "\n",
       "   LotShape_Reg  \n",
       "0             0  \n",
       "1             0  "
      ]
     },
     "execution_count": 98,
     "metadata": {},
     "output_type": "execute_result"
    }
   ],
   "source": [
    "# Locate Nulls For PoolQC\n",
    "loc_missing(df,\"PoolQC\").head(2)"
   ]
  },
  {
   "cell_type": "code",
   "execution_count": 99,
   "metadata": {},
   "outputs": [
    {
     "data": {
      "text/plain": [
       "99.688"
      ]
     },
     "execution_count": 99,
     "metadata": {},
     "output_type": "execute_result"
    }
   ],
   "source": [
    "# Print percentage of missing nulls in PoolQC\n",
    "percent_missing(df,\"PoolQC\")"
   ]
  },
  {
   "cell_type": "code",
   "execution_count": 100,
   "metadata": {},
   "outputs": [
    {
     "name": "stdout",
     "output_type": "stream",
     "text": [
      "New shape of DataFrame: (2881, 81)\n"
     ]
    }
   ],
   "source": [
    "# Print the shape of the dataframe\n",
    "shape_of_dataframe(df)"
   ]
  },
  {
   "cell_type": "code",
   "execution_count": 101,
   "metadata": {
    "collapsed": true
   },
   "outputs": [],
   "source": [
    "# Create a for loop to drop PoolQC for each given DataFrame\n",
    "frames = [df, train, test] # List of DataFrames\n",
    "for _ in frames: #Loop through the list\n",
    "    drop_redundants(_,[\"PoolQC\"])"
   ]
  },
  {
   "cell_type": "code",
   "execution_count": 102,
   "metadata": {},
   "outputs": [
    {
     "name": "stdout",
     "output_type": "stream",
     "text": [
      "New shape of DataFrame: (2881, 80)\n"
     ]
    }
   ],
   "source": [
    "# Print the shape of the dataframe\n",
    "shape_of_dataframe(df)"
   ]
  },
  {
   "cell_type": "markdown",
   "metadata": {},
   "source": [
    "### G. Fireplace"
   ]
  },
  {
   "cell_type": "markdown",
   "metadata": {},
   "source": [
    "#### I. Inspection"
   ]
  },
  {
   "cell_type": "code",
   "execution_count": 103,
   "metadata": {},
   "outputs": [
    {
     "name": "stdout",
     "output_type": "stream",
     "text": [
      "Display part of DataFrame:\n",
      "\n",
      "  FireplaceQu  Fireplaces\n",
      "0         NaN           0\n",
      "1          TA           1\n",
      "==============================================================\n",
      "Description:\n",
      "\n",
      "        Fireplaces\n",
      "count  2881.000000\n",
      "mean      0.590420\n",
      "std       0.639742\n",
      "min       0.000000\n",
      "25%       0.000000\n",
      "50%       1.000000\n",
      "75%       1.000000\n",
      "max       4.000000\n",
      "==============================================================\n",
      "Data Types:\n",
      "\n",
      "FireplaceQu    object\n",
      "Fireplaces      int64\n",
      "dtype: object\n",
      "==============================================================\n",
      "Number of Null Values:\n",
      "\n",
      "FireplaceQu    1407\n",
      "Fireplaces        0\n",
      "dtype: int64\n",
      "==============================================================\n"
     ]
    }
   ],
   "source": [
    "# Filter Fireplace\n",
    "column_inspection(\"Fireplace\")"
   ]
  },
  {
   "cell_type": "markdown",
   "metadata": {},
   "source": [
    "#### II. Handle Missing Values"
   ]
  },
  {
   "cell_type": "code",
   "execution_count": 104,
   "metadata": {},
   "outputs": [
    {
     "data": {
      "text/html": [
       "<div>\n",
       "<style>\n",
       "    .dataframe thead tr:only-child th {\n",
       "        text-align: right;\n",
       "    }\n",
       "\n",
       "    .dataframe thead th {\n",
       "        text-align: left;\n",
       "    }\n",
       "\n",
       "    .dataframe tbody tr th {\n",
       "        vertical-align: top;\n",
       "    }\n",
       "</style>\n",
       "<table border=\"1\" class=\"dataframe\">\n",
       "  <thead>\n",
       "    <tr style=\"text-align: right;\">\n",
       "      <th></th>\n",
       "      <th>1stFlrSF</th>\n",
       "      <th>2ndFlrSF</th>\n",
       "      <th>3SsnPorch</th>\n",
       "      <th>Alley</th>\n",
       "      <th>BedroomAbvGr</th>\n",
       "      <th>BldgType</th>\n",
       "      <th>BsmtExposure</th>\n",
       "      <th>BsmtQual</th>\n",
       "      <th>BsmtUnfSF</th>\n",
       "      <th>BsmtFinSF1</th>\n",
       "      <th>BsmtFinSF2</th>\n",
       "      <th>CentralAir</th>\n",
       "      <th>Condition1</th>\n",
       "      <th>Condition2</th>\n",
       "      <th>Electrical</th>\n",
       "      <th>EnclosedPorch</th>\n",
       "      <th>ExterCond</th>\n",
       "      <th>ExterQual</th>\n",
       "      <th>Exterior1st</th>\n",
       "      <th>Exterior2nd</th>\n",
       "      <th>Fence</th>\n",
       "      <th>FireplaceQu</th>\n",
       "      <th>Fireplaces</th>\n",
       "      <th>Foundation</th>\n",
       "      <th>Functional</th>\n",
       "      <th>GarageArea</th>\n",
       "      <th>GarageFinish</th>\n",
       "      <th>GarageQual</th>\n",
       "      <th>GarageType</th>\n",
       "      <th>GarageYrBlt</th>\n",
       "      <th>GrLivArea</th>\n",
       "      <th>Heating</th>\n",
       "      <th>HeatingQC</th>\n",
       "      <th>HouseStyle</th>\n",
       "      <th>Id</th>\n",
       "      <th>KitchenAbvGr</th>\n",
       "      <th>KitchenQual</th>\n",
       "      <th>LandContour</th>\n",
       "      <th>LandSlope</th>\n",
       "      <th>LotArea</th>\n",
       "      <th>LotFrontage</th>\n",
       "      <th>LowQualFinSF</th>\n",
       "      <th>MSSubClass</th>\n",
       "      <th>MSZoning</th>\n",
       "      <th>MasVnrArea</th>\n",
       "      <th>MasVnrType</th>\n",
       "      <th>MiscFeature</th>\n",
       "      <th>MiscVal</th>\n",
       "      <th>MoSold</th>\n",
       "      <th>Neighborhood</th>\n",
       "      <th>OpenPorchSF</th>\n",
       "      <th>OverallCond</th>\n",
       "      <th>OverallQual</th>\n",
       "      <th>PID</th>\n",
       "      <th>PavedDrive</th>\n",
       "      <th>PoolArea</th>\n",
       "      <th>RoofMatl</th>\n",
       "      <th>RoofStyle</th>\n",
       "      <th>SaleCondition</th>\n",
       "      <th>SaleType</th>\n",
       "      <th>SalePrice</th>\n",
       "      <th>ScreenPorch</th>\n",
       "      <th>Street</th>\n",
       "      <th>TotRmsAbvGrd</th>\n",
       "      <th>TotalBsmtSF</th>\n",
       "      <th>Utilities</th>\n",
       "      <th>WoodDeckSF</th>\n",
       "      <th>YearBuilt</th>\n",
       "      <th>YearRemod/Add</th>\n",
       "      <th>YrSold</th>\n",
       "      <th>Bath</th>\n",
       "      <th>LotConfig_Corner</th>\n",
       "      <th>LotConfig_CulDSac</th>\n",
       "      <th>LotConfig_FR2</th>\n",
       "      <th>LotConfig_FR3</th>\n",
       "      <th>LotConfig_Inside</th>\n",
       "      <th>LotShape_IR1</th>\n",
       "      <th>LotShape_IR2</th>\n",
       "      <th>LotShape_IR3</th>\n",
       "      <th>LotShape_Reg</th>\n",
       "    </tr>\n",
       "  </thead>\n",
       "  <tbody>\n",
       "    <tr>\n",
       "      <th>0</th>\n",
       "      <td>725</td>\n",
       "      <td>754</td>\n",
       "      <td>0</td>\n",
       "      <td>NaN</td>\n",
       "      <td>3</td>\n",
       "      <td>1Fam</td>\n",
       "      <td>1</td>\n",
       "      <td>3</td>\n",
       "      <td>192.0</td>\n",
       "      <td>533.0</td>\n",
       "      <td>0.0</td>\n",
       "      <td>Y</td>\n",
       "      <td>RRAe</td>\n",
       "      <td>Norm</td>\n",
       "      <td>SBrkr</td>\n",
       "      <td>0</td>\n",
       "      <td>TA</td>\n",
       "      <td>Gd</td>\n",
       "      <td>HdBoard</td>\n",
       "      <td>Plywood</td>\n",
       "      <td>NaN</td>\n",
       "      <td>NaN</td>\n",
       "      <td>0</td>\n",
       "      <td>CBlock</td>\n",
       "      <td>Typ</td>\n",
       "      <td>475.0</td>\n",
       "      <td>0</td>\n",
       "      <td>3</td>\n",
       "      <td>6</td>\n",
       "      <td>1976.0</td>\n",
       "      <td>1479</td>\n",
       "      <td>GasA</td>\n",
       "      <td>Ex</td>\n",
       "      <td>2Story</td>\n",
       "      <td>109</td>\n",
       "      <td>1</td>\n",
       "      <td>4</td>\n",
       "      <td>Lvl</td>\n",
       "      <td>Gtl</td>\n",
       "      <td>13517</td>\n",
       "      <td>70.0</td>\n",
       "      <td>0</td>\n",
       "      <td>60</td>\n",
       "      <td>RL</td>\n",
       "      <td>289.0</td>\n",
       "      <td>BrkFace</td>\n",
       "      <td>NaN</td>\n",
       "      <td>0</td>\n",
       "      <td>3</td>\n",
       "      <td>Sawyer</td>\n",
       "      <td>44</td>\n",
       "      <td>8</td>\n",
       "      <td>6</td>\n",
       "      <td>533352170</td>\n",
       "      <td>Y</td>\n",
       "      <td>0</td>\n",
       "      <td>CompShg</td>\n",
       "      <td>Gable</td>\n",
       "      <td>Normal</td>\n",
       "      <td>WD</td>\n",
       "      <td>130500.0</td>\n",
       "      <td>0</td>\n",
       "      <td>Pave</td>\n",
       "      <td>6</td>\n",
       "      <td>725.0</td>\n",
       "      <td>AllPub</td>\n",
       "      <td>0</td>\n",
       "      <td>1976</td>\n",
       "      <td>2005</td>\n",
       "      <td>2010</td>\n",
       "      <td>2.5</td>\n",
       "      <td>0</td>\n",
       "      <td>1</td>\n",
       "      <td>0</td>\n",
       "      <td>0</td>\n",
       "      <td>0</td>\n",
       "      <td>1</td>\n",
       "      <td>0</td>\n",
       "      <td>0</td>\n",
       "      <td>0</td>\n",
       "    </tr>\n",
       "    <tr>\n",
       "      <th>2</th>\n",
       "      <td>1057</td>\n",
       "      <td>0</td>\n",
       "      <td>0</td>\n",
       "      <td>NaN</td>\n",
       "      <td>3</td>\n",
       "      <td>1Fam</td>\n",
       "      <td>1</td>\n",
       "      <td>3</td>\n",
       "      <td>326.0</td>\n",
       "      <td>731.0</td>\n",
       "      <td>0.0</td>\n",
       "      <td>Y</td>\n",
       "      <td>Norm</td>\n",
       "      <td>Norm</td>\n",
       "      <td>SBrkr</td>\n",
       "      <td>0</td>\n",
       "      <td>Gd</td>\n",
       "      <td>TA</td>\n",
       "      <td>VinylSd</td>\n",
       "      <td>VinylSd</td>\n",
       "      <td>NaN</td>\n",
       "      <td>NaN</td>\n",
       "      <td>0</td>\n",
       "      <td>CBlock</td>\n",
       "      <td>Typ</td>\n",
       "      <td>246.0</td>\n",
       "      <td>0</td>\n",
       "      <td>3</td>\n",
       "      <td>5</td>\n",
       "      <td>1953.0</td>\n",
       "      <td>1057</td>\n",
       "      <td>GasA</td>\n",
       "      <td>TA</td>\n",
       "      <td>1Story</td>\n",
       "      <td>153</td>\n",
       "      <td>1</td>\n",
       "      <td>4</td>\n",
       "      <td>Lvl</td>\n",
       "      <td>Gtl</td>\n",
       "      <td>7922</td>\n",
       "      <td>68.0</td>\n",
       "      <td>0</td>\n",
       "      <td>20</td>\n",
       "      <td>RL</td>\n",
       "      <td>0.0</td>\n",
       "      <td>None</td>\n",
       "      <td>NaN</td>\n",
       "      <td>0</td>\n",
       "      <td>1</td>\n",
       "      <td>NAmes</td>\n",
       "      <td>52</td>\n",
       "      <td>7</td>\n",
       "      <td>5</td>\n",
       "      <td>535304180</td>\n",
       "      <td>Y</td>\n",
       "      <td>0</td>\n",
       "      <td>CompShg</td>\n",
       "      <td>Gable</td>\n",
       "      <td>Abnorml</td>\n",
       "      <td>WD</td>\n",
       "      <td>109000.0</td>\n",
       "      <td>0</td>\n",
       "      <td>Pave</td>\n",
       "      <td>5</td>\n",
       "      <td>1057.0</td>\n",
       "      <td>AllPub</td>\n",
       "      <td>0</td>\n",
       "      <td>1953</td>\n",
       "      <td>2007</td>\n",
       "      <td>2010</td>\n",
       "      <td>2.0</td>\n",
       "      <td>0</td>\n",
       "      <td>0</td>\n",
       "      <td>0</td>\n",
       "      <td>0</td>\n",
       "      <td>1</td>\n",
       "      <td>0</td>\n",
       "      <td>0</td>\n",
       "      <td>0</td>\n",
       "      <td>1</td>\n",
       "    </tr>\n",
       "  </tbody>\n",
       "</table>\n",
       "</div>"
      ],
      "text/plain": [
       "   1stFlrSF  2ndFlrSF  3SsnPorch Alley  BedroomAbvGr BldgType  BsmtExposure  \\\n",
       "0       725       754          0   NaN             3     1Fam             1   \n",
       "2      1057         0          0   NaN             3     1Fam             1   \n",
       "\n",
       "   BsmtQual  BsmtUnfSF  BsmtFinSF1  BsmtFinSF2 CentralAir Condition1  \\\n",
       "0         3      192.0       533.0         0.0          Y       RRAe   \n",
       "2         3      326.0       731.0         0.0          Y       Norm   \n",
       "\n",
       "  Condition2 Electrical  EnclosedPorch ExterCond ExterQual Exterior1st  \\\n",
       "0       Norm      SBrkr              0        TA        Gd     HdBoard   \n",
       "2       Norm      SBrkr              0        Gd        TA     VinylSd   \n",
       "\n",
       "  Exterior2nd Fence FireplaceQu  Fireplaces Foundation Functional  GarageArea  \\\n",
       "0     Plywood   NaN         NaN           0     CBlock        Typ       475.0   \n",
       "2     VinylSd   NaN         NaN           0     CBlock        Typ       246.0   \n",
       "\n",
       "   GarageFinish  GarageQual  GarageType  GarageYrBlt  GrLivArea Heating  \\\n",
       "0             0           3           6       1976.0       1479    GasA   \n",
       "2             0           3           5       1953.0       1057    GasA   \n",
       "\n",
       "  HeatingQC HouseStyle   Id  KitchenAbvGr  KitchenQual LandContour LandSlope  \\\n",
       "0        Ex     2Story  109             1            4         Lvl       Gtl   \n",
       "2        TA     1Story  153             1            4         Lvl       Gtl   \n",
       "\n",
       "   LotArea  LotFrontage  LowQualFinSF  MSSubClass MSZoning  MasVnrArea  \\\n",
       "0    13517         70.0             0          60       RL       289.0   \n",
       "2     7922         68.0             0          20       RL         0.0   \n",
       "\n",
       "  MasVnrType MiscFeature  MiscVal  MoSold Neighborhood  OpenPorchSF  \\\n",
       "0    BrkFace         NaN        0       3       Sawyer           44   \n",
       "2       None         NaN        0       1        NAmes           52   \n",
       "\n",
       "   OverallCond  OverallQual        PID PavedDrive  PoolArea RoofMatl  \\\n",
       "0            8            6  533352170          Y         0  CompShg   \n",
       "2            7            5  535304180          Y         0  CompShg   \n",
       "\n",
       "  RoofStyle SaleCondition SaleType  SalePrice  ScreenPorch Street  \\\n",
       "0     Gable        Normal      WD    130500.0            0   Pave   \n",
       "2     Gable       Abnorml      WD    109000.0            0   Pave   \n",
       "\n",
       "   TotRmsAbvGrd  TotalBsmtSF Utilities  WoodDeckSF  YearBuilt  YearRemod/Add  \\\n",
       "0             6        725.0    AllPub           0       1976           2005   \n",
       "2             5       1057.0    AllPub           0       1953           2007   \n",
       "\n",
       "   YrSold  Bath  LotConfig_Corner  LotConfig_CulDSac  LotConfig_FR2  \\\n",
       "0    2010   2.5                 0                  1              0   \n",
       "2    2010   2.0                 0                  0              0   \n",
       "\n",
       "   LotConfig_FR3  LotConfig_Inside  LotShape_IR1  LotShape_IR2  LotShape_IR3  \\\n",
       "0              0                 0             1             0             0   \n",
       "2              0                 1             0             0             0   \n",
       "\n",
       "   LotShape_Reg  \n",
       "0             0  \n",
       "2             1  "
      ]
     },
     "execution_count": 104,
     "metadata": {},
     "output_type": "execute_result"
    }
   ],
   "source": [
    "# Locate Nulls For PoolQC\n",
    "loc_missing(df,\"FireplaceQu\").head(2)"
   ]
  },
  {
   "cell_type": "code",
   "execution_count": 105,
   "metadata": {},
   "outputs": [
    {
     "data": {
      "text/plain": [
       "48.837"
      ]
     },
     "execution_count": 105,
     "metadata": {},
     "output_type": "execute_result"
    }
   ],
   "source": [
    "# Print percentage of missing nulls in FireplaceQu\n",
    "percent_missing(df,\"FireplaceQu\")"
   ]
  },
  {
   "cell_type": "code",
   "execution_count": 106,
   "metadata": {},
   "outputs": [
    {
     "name": "stdout",
     "output_type": "stream",
     "text": [
      "New shape of DataFrame: (2881, 80)\n"
     ]
    }
   ],
   "source": [
    "# Print the shape of the dataframe\n",
    "shape_of_dataframe(df)"
   ]
  },
  {
   "cell_type": "code",
   "execution_count": 107,
   "metadata": {
    "collapsed": true
   },
   "outputs": [],
   "source": [
    "# Create a for loop to drop FireplaceQu for each given DataFrame\n",
    "frames = [df, train, test] # List of DataFrames\n",
    "for _ in frames: #Loop through the list\n",
    "    drop_redundants(_,[\"FireplaceQu\"])"
   ]
  },
  {
   "cell_type": "markdown",
   "metadata": {},
   "source": [
    "### H. Porch"
   ]
  },
  {
   "cell_type": "markdown",
   "metadata": {},
   "source": [
    "#### I. Inspect"
   ]
  },
  {
   "cell_type": "code",
   "execution_count": 108,
   "metadata": {},
   "outputs": [
    {
     "name": "stdout",
     "output_type": "stream",
     "text": [
      "Display part of DataFrame:\n",
      "\n",
      "   3SsnPorch  EnclosedPorch  OpenPorchSF  ScreenPorch\n",
      "0          0              0           44            0\n",
      "1          0              0           74            0\n",
      "==============================================================\n",
      "Description:\n",
      "\n",
      "         3SsnPorch  EnclosedPorch  OpenPorchSF  ScreenPorch\n",
      "count  2881.000000    2881.000000  2881.000000  2881.000000\n",
      "mean      2.636585      22.763277    47.329052    15.767442\n",
      "std      25.352011      63.303070    67.098311    55.650678\n",
      "min       0.000000       0.000000     0.000000     0.000000\n",
      "25%       0.000000       0.000000     0.000000     0.000000\n",
      "50%       0.000000       0.000000    27.000000     0.000000\n",
      "75%       0.000000       0.000000    70.000000     0.000000\n",
      "max     508.000000    1012.000000   742.000000   576.000000\n",
      "==============================================================\n",
      "Data Types:\n",
      "\n",
      "3SsnPorch        int64\n",
      "EnclosedPorch    int64\n",
      "OpenPorchSF      int64\n",
      "ScreenPorch      int64\n",
      "dtype: object\n",
      "==============================================================\n",
      "Number of Null Values:\n",
      "\n",
      "3SsnPorch        0\n",
      "EnclosedPorch    0\n",
      "OpenPorchSF      0\n",
      "ScreenPorch      0\n",
      "dtype: int64\n",
      "==============================================================\n"
     ]
    }
   ],
   "source": [
    "# Filter Porch\n",
    "column_inspection(\"Porch\")"
   ]
  },
  {
   "cell_type": "markdown",
   "metadata": {},
   "source": [
    "#### II. Feature Engineering"
   ]
  },
  {
   "cell_type": "code",
   "execution_count": 109,
   "metadata": {
    "collapsed": true
   },
   "outputs": [],
   "source": [
    "# Create a for loop to create a new column for each given data frame\n",
    "frames = [df, train, test] # List of DataFrames\n",
    "for _ in frames: #Loop through the list\n",
    "    _[\"PorchSF\"] = _[\"3SsnPorch\"] + _[\"EnclosedPorch\"] +\\\n",
    "             _[\"OpenPorchSF\"] + _[\"ScreenPorch\"] # New Column"
   ]
  },
  {
   "cell_type": "markdown",
   "metadata": {},
   "source": [
    "#### III. Drop Redundant Columns"
   ]
  },
  {
   "cell_type": "code",
   "execution_count": 110,
   "metadata": {},
   "outputs": [
    {
     "name": "stdout",
     "output_type": "stream",
     "text": [
      "New shape of DataFrame: (2881, 80)\n"
     ]
    }
   ],
   "source": [
    "# Print the shape of the dataframe\n",
    "shape_of_dataframe(df)"
   ]
  },
  {
   "cell_type": "code",
   "execution_count": 111,
   "metadata": {
    "collapsed": true
   },
   "outputs": [],
   "source": [
    "# Create a for loop to drop redundant columns for each given DataFrame\n",
    "frames = [df, train, test] # List of DataFrames\n",
    "for _ in frames: #Loop through the list\n",
    "    drop_redundants(_,[\"3SsnPorch\",\"EnclosedPorch\",\"OpenPorchSF\",\"ScreenPorch\"])"
   ]
  },
  {
   "cell_type": "code",
   "execution_count": 112,
   "metadata": {},
   "outputs": [
    {
     "name": "stdout",
     "output_type": "stream",
     "text": [
      "New shape of DataFrame: (2881, 76)\n"
     ]
    }
   ],
   "source": [
    "# Print the shape of the dataframe\n",
    "shape_of_dataframe(df)"
   ]
  },
  {
   "cell_type": "markdown",
   "metadata": {},
   "source": [
    "#### VI. Check Outliers"
   ]
  },
  {
   "cell_type": "code",
   "execution_count": 113,
   "metadata": {},
   "outputs": [
    {
     "data": {
      "image/png": "[encoded data removed]",
      "text/plain": [
       "<matplotlib.figure.Figure at 0x10cceb0b8>"
      ]
     },
     "metadata": {},
     "output_type": "display_data"
    }
   ],
   "source": [
    "# Box plot for Porch\n",
    "box_plots(df,\"PorchSF\")"
   ]
  },
  {
   "cell_type": "code",
   "execution_count": 114,
   "metadata": {
    "collapsed": true
   },
   "outputs": [],
   "source": [
    "# For df: Drop anything greater than 600 for PorchSF\n",
    "df = df.loc[(df[\"PorchSF\"]<600),:]\n",
    "\n",
    "# For train: Drop anything greater than 600 for PorchSF\n",
    "train = train.loc[(train[\"PorchSF\"]<600),:]\n",
    "\n",
    "# For test: Drop anything greater than 600 for PorchSF\n",
    "test = test.loc[(test[\"PorchSF\"]<600),:]"
   ]
  },
  {
   "cell_type": "code",
   "execution_count": 115,
   "metadata": {},
   "outputs": [
    {
     "name": "stdout",
     "output_type": "stream",
     "text": [
      "New shape of DataFrame: (2874, 76)\n"
     ]
    }
   ],
   "source": [
    "# Print the shape of the dataframe\n",
    "shape_of_dataframe(df)"
   ]
  },
  {
   "cell_type": "markdown",
   "metadata": {},
   "source": [
    "### I. Land"
   ]
  },
  {
   "cell_type": "markdown",
   "metadata": {},
   "source": [
    "#### I. Inspect"
   ]
  },
  {
   "cell_type": "code",
   "execution_count": 116,
   "metadata": {},
   "outputs": [
    {
     "name": "stdout",
     "output_type": "stream",
     "text": [
      "Display part of DataFrame:\n",
      "\n",
      "  LandContour LandSlope\n",
      "0         Lvl       Gtl\n",
      "1         Lvl       Gtl\n",
      "==============================================================\n",
      "Description:\n",
      "\n",
      "       LandContour LandSlope\n",
      "count         2874      2874\n",
      "unique           4         3\n",
      "top            Lvl       Gtl\n",
      "freq          2598      2748\n",
      "==============================================================\n",
      "Data Types:\n",
      "\n",
      "LandContour    object\n",
      "LandSlope      object\n",
      "dtype: object\n",
      "==============================================================\n",
      "Number of Null Values:\n",
      "\n",
      "LandContour    0\n",
      "LandSlope      0\n",
      "dtype: int64\n",
      "==============================================================\n"
     ]
    }
   ],
   "source": [
    "# Filter Land\n",
    "column_inspection(\"Land\")"
   ]
  },
  {
   "cell_type": "markdown",
   "metadata": {},
   "source": [
    "##### Ia. Dealing with Categoricals "
   ]
  },
  {
   "cell_type": "code",
   "execution_count": 117,
   "metadata": {},
   "outputs": [
    {
     "data": {
      "text/plain": [
       "LandContour    4\n",
       "LandSlope      3\n",
       "dtype: int64"
      ]
     },
     "execution_count": 117,
     "metadata": {},
     "output_type": "execute_result"
    }
   ],
   "source": [
    "# Select all categoricals from Lot to change to numericals\n",
    "column_filter(\"Land\").select_dtypes(include=['object']).nunique()"
   ]
  },
  {
   "cell_type": "code",
   "execution_count": 118,
   "metadata": {},
   "outputs": [
    {
     "name": "stdout",
     "output_type": "stream",
     "text": [
      "LandContour:\n",
      "['Lvl' 'HLS' 'Bnk' 'Low']\n",
      "LandSlope:\n",
      "['Gtl' 'Sev' 'Mod']\n"
     ]
    }
   ],
   "source": [
    "# View all unique \n",
    "print(\"LandContour:\")\n",
    "view_unique_cat(\"LandContour\")\n",
    "print(\"LandSlope:\")\n",
    "view_unique_cat(\"LandSlope\")"
   ]
  },
  {
   "cell_type": "code",
   "execution_count": 119,
   "metadata": {
    "collapsed": true
   },
   "outputs": [],
   "source": [
    "# For df: \n",
    "df = pd.get_dummies(df,columns=[\"LandContour\",\"LandSlope\"],drop_first=False)\n",
    "# For train: \n",
    "train = pd.get_dummies(train,columns=[\"LandContour\",\"LandSlope\"],drop_first=False)\n",
    "# For test: \n",
    "test = pd.get_dummies(test,columns=[\"LandContour\",\"LandSlope\"],drop_first=False)"
   ]
  },
  {
   "cell_type": "markdown",
   "metadata": {},
   "source": [
    "#### II. Correlations"
   ]
  },
  {
   "cell_type": "code",
   "execution_count": 120,
   "metadata": {},
   "outputs": [
    {
     "data": {
      "image/png": "[encoded data removed]",
      "text/plain": [
       "<matplotlib.figure.Figure at 0x10c3c49b0>"
      ]
     },
     "metadata": {},
     "output_type": "display_data"
    }
   ],
   "source": [
    "# Heatmap of Land Features\n",
    "column_correlation(\"Land\")"
   ]
  },
  {
   "cell_type": "markdown",
   "metadata": {},
   "source": [
    "### J. Heating"
   ]
  },
  {
   "cell_type": "markdown",
   "metadata": {},
   "source": [
    "#### I. Inspect"
   ]
  },
  {
   "cell_type": "code",
   "execution_count": 121,
   "metadata": {},
   "outputs": [
    {
     "name": "stdout",
     "output_type": "stream",
     "text": [
      "Display part of DataFrame:\n",
      "\n",
      "  Heating HeatingQC\n",
      "0    GasA        Ex\n",
      "1    GasA        Ex\n",
      "==============================================================\n",
      "Description:\n",
      "\n",
      "       Heating HeatingQC\n",
      "count     2874      2874\n",
      "unique       6         5\n",
      "top       GasA        Ex\n",
      "freq      2834      1464\n",
      "==============================================================\n",
      "Data Types:\n",
      "\n",
      "Heating      object\n",
      "HeatingQC    object\n",
      "dtype: object\n",
      "==============================================================\n",
      "Number of Null Values:\n",
      "\n",
      "Heating      0\n",
      "HeatingQC    0\n",
      "dtype: int64\n",
      "==============================================================\n"
     ]
    }
   ],
   "source": [
    "# Filter Heating\n",
    "column_inspection(\"Heating\")"
   ]
  },
  {
   "cell_type": "markdown",
   "metadata": {},
   "source": [
    "##### Ia. Dealing with Categoricals "
   ]
  },
  {
   "cell_type": "code",
   "execution_count": 122,
   "metadata": {},
   "outputs": [
    {
     "data": {
      "text/plain": [
       "Heating      6\n",
       "HeatingQC    5\n",
       "dtype: int64"
      ]
     },
     "execution_count": 122,
     "metadata": {},
     "output_type": "execute_result"
    }
   ],
   "source": [
    "# Select all categoricals from Heating to change to numericals\n",
    "column_filter(\"Heating\").select_dtypes(include=['object']).nunique()"
   ]
  },
  {
   "cell_type": "code",
   "execution_count": 123,
   "metadata": {},
   "outputs": [
    {
     "name": "stdout",
     "output_type": "stream",
     "text": [
      "Heating:\n",
      "['GasA' 'GasW' 'Grav' 'Wall' 'OthW' 'Floor']\n",
      "HeatingQC:\n",
      "['Ex' 'TA' 'Gd' 'Fa' 'Po']\n"
     ]
    }
   ],
   "source": [
    "# View all unique \n",
    "print(\"Heating:\")\n",
    "view_unique_cat(\"Heating\")\n",
    "print(\"HeatingQC:\")\n",
    "view_unique_cat(\"HeatingQC\")"
   ]
  },
  {
   "cell_type": "code",
   "execution_count": 124,
   "metadata": {
    "collapsed": true
   },
   "outputs": [],
   "source": [
    "# Create a for loop to map condition dictionary for each given data frame\n",
    "frames = [df, train, test] # List of DataFrames\n",
    "for _ in frames: #Loop through the list\n",
    "    map_dictionary(_,\"HeatingQC\",condition_dict)"
   ]
  },
  {
   "cell_type": "code",
   "execution_count": 125,
   "metadata": {
    "collapsed": true
   },
   "outputs": [],
   "source": [
    "# For df: \n",
    "df = pd.get_dummies(df,columns=[\"Heating\"],drop_first=False)\n",
    "# For train: \n",
    "train = pd.get_dummies(train,columns=[\"Heating\"],drop_first=False)\n",
    "# For test: \n",
    "test = pd.get_dummies(test,columns=[\"Heating\"],drop_first=False)"
   ]
  },
  {
   "cell_type": "markdown",
   "metadata": {},
   "source": [
    "#### II. Correlations"
   ]
  },
  {
   "cell_type": "code",
   "execution_count": 126,
   "metadata": {},
   "outputs": [
    {
     "data": {
      "image/png": "[encoded data removed]",
      "text/plain": [
       "<matplotlib.figure.Figure at 0x10dc8a4e0>"
      ]
     },
     "metadata": {},
     "output_type": "display_data"
    }
   ],
   "source": [
    "# Heatmap of Heating Features\n",
    "column_correlation(\"Heating\")"
   ]
  },
  {
   "cell_type": "markdown",
   "metadata": {},
   "source": [
    "### K. Roof"
   ]
  },
  {
   "cell_type": "markdown",
   "metadata": {},
   "source": [
    "#### I. Inspect"
   ]
  },
  {
   "cell_type": "code",
   "execution_count": 127,
   "metadata": {},
   "outputs": [
    {
     "name": "stdout",
     "output_type": "stream",
     "text": [
      "Display part of DataFrame:\n",
      "\n",
      "  RoofMatl RoofStyle\n",
      "0  CompShg     Gable\n",
      "1  CompShg     Gable\n",
      "==============================================================\n",
      "Description:\n",
      "\n",
      "       RoofMatl RoofStyle\n",
      "count      2874      2874\n",
      "unique        7         6\n",
      "top     CompShg     Gable\n",
      "freq       2840      2286\n",
      "==============================================================\n",
      "Data Types:\n",
      "\n",
      "RoofMatl     object\n",
      "RoofStyle    object\n",
      "dtype: object\n",
      "==============================================================\n",
      "Number of Null Values:\n",
      "\n",
      "RoofMatl     0\n",
      "RoofStyle    0\n",
      "dtype: int64\n",
      "==============================================================\n"
     ]
    }
   ],
   "source": [
    "# Filter Roof\n",
    "column_inspection(\"Roof\")"
   ]
  },
  {
   "cell_type": "markdown",
   "metadata": {},
   "source": [
    "##### Ia. Dealing with Categoricals "
   ]
  },
  {
   "cell_type": "code",
   "execution_count": 128,
   "metadata": {},
   "outputs": [
    {
     "data": {
      "text/plain": [
       "RoofMatl     7\n",
       "RoofStyle    6\n",
       "dtype: int64"
      ]
     },
     "execution_count": 128,
     "metadata": {},
     "output_type": "execute_result"
    }
   ],
   "source": [
    "# Select all categoricals from Roof to change to numericals\n",
    "column_filter(\"Roof\").select_dtypes(include=['object']).nunique()"
   ]
  },
  {
   "cell_type": "code",
   "execution_count": 129,
   "metadata": {},
   "outputs": [
    {
     "name": "stdout",
     "output_type": "stream",
     "text": [
      "RoofMatl:\n",
      "['CompShg' 'WdShngl' 'Tar&Grv' 'WdShake' 'Membran' 'Metal' 'Roll']\n",
      "RoofStyle:\n",
      "['Gable' 'Hip' 'Flat' 'Mansard' 'Gambrel' 'Shed']\n"
     ]
    }
   ],
   "source": [
    "# View all unique \n",
    "print(\"RoofMatl:\")\n",
    "view_unique_cat(\"RoofMatl\")\n",
    "print(\"RoofStyle:\")\n",
    "view_unique_cat(\"RoofStyle\")"
   ]
  },
  {
   "cell_type": "code",
   "execution_count": 130,
   "metadata": {
    "collapsed": true
   },
   "outputs": [],
   "source": [
    "# Create a for loop to create a new column for each given data frame\n",
    "frames = [df, train, test] # List of DataFrames\n",
    "for _ in frames: #Loop through the list\n",
    "    _[\"RoofMatl\"] = _[\"RoofMatl\"].apply(lambda x: 1 if x == \"CompShg\" else 0)"
   ]
  },
  {
   "cell_type": "code",
   "execution_count": 131,
   "metadata": {
    "collapsed": true
   },
   "outputs": [],
   "source": [
    "# For df: \n",
    "df = pd.get_dummies(df,columns=[\"RoofStyle\"],drop_first=False)\n",
    "# For train: \n",
    "train = pd.get_dummies(train,columns=[\"RoofStyle\"],drop_first=False)\n",
    "# For test: \n",
    "test = pd.get_dummies(test,columns=[\"RoofStyle\"],drop_first=False)"
   ]
  },
  {
   "cell_type": "markdown",
   "metadata": {},
   "source": [
    "### L. Quality"
   ]
  },
  {
   "cell_type": "markdown",
   "metadata": {},
   "source": [
    "#### I. Inspect"
   ]
  },
  {
   "cell_type": "code",
   "execution_count": 132,
   "metadata": {},
   "outputs": [
    {
     "data": {
      "text/html": [
       "<div>\n",
       "<style>\n",
       "    .dataframe thead tr:only-child th {\n",
       "        text-align: right;\n",
       "    }\n",
       "\n",
       "    .dataframe thead th {\n",
       "        text-align: left;\n",
       "    }\n",
       "\n",
       "    .dataframe tbody tr th {\n",
       "        vertical-align: top;\n",
       "    }\n",
       "</style>\n",
       "<table border=\"1\" class=\"dataframe\">\n",
       "  <thead>\n",
       "    <tr style=\"text-align: right;\">\n",
       "      <th></th>\n",
       "      <th>BsmtQual</th>\n",
       "      <th>Condition1</th>\n",
       "      <th>Condition2</th>\n",
       "      <th>ExterCond</th>\n",
       "      <th>ExterQual</th>\n",
       "      <th>GarageQual</th>\n",
       "      <th>HeatingQC</th>\n",
       "      <th>KitchenQual</th>\n",
       "      <th>LowQualFinSF</th>\n",
       "      <th>OverallCond</th>\n",
       "      <th>OverallQual</th>\n",
       "      <th>SaleCondition</th>\n",
       "    </tr>\n",
       "  </thead>\n",
       "  <tbody>\n",
       "    <tr>\n",
       "      <th>0</th>\n",
       "      <td>3</td>\n",
       "      <td>RRAe</td>\n",
       "      <td>Norm</td>\n",
       "      <td>TA</td>\n",
       "      <td>Gd</td>\n",
       "      <td>3</td>\n",
       "      <td>5</td>\n",
       "      <td>4</td>\n",
       "      <td>0</td>\n",
       "      <td>8</td>\n",
       "      <td>6</td>\n",
       "      <td>Normal</td>\n",
       "    </tr>\n",
       "    <tr>\n",
       "      <th>1</th>\n",
       "      <td>4</td>\n",
       "      <td>Norm</td>\n",
       "      <td>Norm</td>\n",
       "      <td>TA</td>\n",
       "      <td>Gd</td>\n",
       "      <td>3</td>\n",
       "      <td>5</td>\n",
       "      <td>4</td>\n",
       "      <td>0</td>\n",
       "      <td>5</td>\n",
       "      <td>7</td>\n",
       "      <td>Normal</td>\n",
       "    </tr>\n",
       "  </tbody>\n",
       "</table>\n",
       "</div>"
      ],
      "text/plain": [
       "   BsmtQual Condition1 Condition2 ExterCond ExterQual  GarageQual  HeatingQC  \\\n",
       "0         3       RRAe       Norm        TA        Gd           3          5   \n",
       "1         4       Norm       Norm        TA        Gd           3          5   \n",
       "\n",
       "   KitchenQual  LowQualFinSF  OverallCond  OverallQual SaleCondition  \n",
       "0            4             0            8            6        Normal  \n",
       "1            4             0            5            7        Normal  "
      ]
     },
     "execution_count": 132,
     "metadata": {},
     "output_type": "execute_result"
    }
   ],
   "source": [
    "# Filter columns that contain Qual,QC,QU,Cond\n",
    "quality_filter = df[df.columns[(df.columns.to_series().str.contains('Qual'))\\\n",
    "                                | (df.columns.to_series().str.contains('QC'))\\\n",
    "                                | (df.columns.to_series().str.contains('Qu'))\\\n",
    "                                | (df.columns.to_series().str.contains('Cond'))]]\n",
    "# Prints a dataframe with columns containing qualities\n",
    "quality_filter.head(2)"
   ]
  },
  {
   "cell_type": "markdown",
   "metadata": {},
   "source": [
    "##### Ia. Dealing with Categoricals "
   ]
  },
  {
   "cell_type": "code",
   "execution_count": 133,
   "metadata": {},
   "outputs": [
    {
     "data": {
      "text/plain": [
       "ExterQual    4\n",
       "dtype: int64"
      ]
     },
     "execution_count": 133,
     "metadata": {},
     "output_type": "execute_result"
    }
   ],
   "source": [
    "# Select all categoricals from Roof to change to numericals\n",
    "column_filter(\"Qual\").select_dtypes(include=['object']).nunique()"
   ]
  },
  {
   "cell_type": "code",
   "execution_count": 134,
   "metadata": {},
   "outputs": [
    {
     "name": "stdout",
     "output_type": "stream",
     "text": [
      "ExterQual:\n",
      "['Gd' 'TA' 'Ex' 'Fa']\n"
     ]
    }
   ],
   "source": [
    "# View all unique \n",
    "print(\"ExterQual:\")\n",
    "view_unique_cat(\"ExterQual\")"
   ]
  },
  {
   "cell_type": "code",
   "execution_count": 135,
   "metadata": {
    "collapsed": true
   },
   "outputs": [],
   "source": [
    "# Create a for loop to map condition dictionary for each given data frame\n",
    "frames = [df, train, test] # List of DataFrames\n",
    "for _ in frames: #Loop through the list\n",
    "    map_dictionary(_,\"ExterQual\",condition_dict)"
   ]
  },
  {
   "cell_type": "code",
   "execution_count": 136,
   "metadata": {},
   "outputs": [
    {
     "data": {
      "text/plain": [
       "Condition1       9\n",
       "Condition2       8\n",
       "ExterCond        5\n",
       "SaleCondition    6\n",
       "dtype: int64"
      ]
     },
     "execution_count": 136,
     "metadata": {},
     "output_type": "execute_result"
    }
   ],
   "source": [
    "# Select all categoricals from Roof to change to numericals\n",
    "column_filter(\"Cond\").select_dtypes(include=['object']).nunique()"
   ]
  },
  {
   "cell_type": "code",
   "execution_count": 137,
   "metadata": {},
   "outputs": [
    {
     "name": "stdout",
     "output_type": "stream",
     "text": [
      "ExterCond:\n",
      "['TA' 'Gd' 'Fa' 'Ex' 'Po']\n",
      "Condition1:\n",
      "['RRAe' 'Norm' 'PosA' 'Artery' 'Feedr' 'PosN' 'RRAn' 'RRNe' 'RRNn']\n",
      "Condition2:\n",
      "['Norm' 'RRNn' 'Feedr' 'Artery' 'PosA' 'PosN' 'RRAe' 'RRAn']\n",
      "SaleCondition:\n",
      "['Normal' 'Abnorml' 'Partial' 'Family' 'Alloca' 'AdjLand' nan]\n"
     ]
    }
   ],
   "source": [
    "# View all unique \n",
    "print(\"ExterCond:\")\n",
    "view_unique_cat(\"ExterCond\")\n",
    "print(\"Condition1:\")\n",
    "view_unique_cat(\"Condition1\")\n",
    "print(\"Condition2:\")\n",
    "view_unique_cat(\"Condition2\")\n",
    "print(\"SaleCondition:\")\n",
    "view_unique_cat(\"SaleCondition\")"
   ]
  },
  {
   "cell_type": "code",
   "execution_count": 138,
   "metadata": {
    "collapsed": true
   },
   "outputs": [],
   "source": [
    "# Create a for loop to map condition dictionary for each given data frame\n",
    "frames = [df, train, test] # List of DataFrames\n",
    "for _ in frames: #Loop through the list\n",
    "    map_dictionary(_,\"ExterCond\",condition_dict)"
   ]
  },
  {
   "cell_type": "code",
   "execution_count": 139,
   "metadata": {
    "collapsed": true
   },
   "outputs": [],
   "source": [
    "# Create a for loop to drop Condition2 for each given DataFrame\n",
    "frames = [df, train, test] # List of DataFrames\n",
    "for _ in frames: #Loop through the list\n",
    "    drop_redundants(_,[\"Condition2\"])"
   ]
  },
  {
   "cell_type": "code",
   "execution_count": 140,
   "metadata": {
    "collapsed": true
   },
   "outputs": [],
   "source": [
    "# For df: \n",
    "df = pd.get_dummies(df,columns=[\"Condition1\"],drop_first=False)\n",
    "# For train: \n",
    "train = pd.get_dummies(train,columns=[\"Condition1\"],drop_first=False)\n",
    "# For test: \n",
    "test = pd.get_dummies(test,columns=[\"Condition1\"],drop_first=False)"
   ]
  },
  {
   "cell_type": "code",
   "execution_count": 141,
   "metadata": {},
   "outputs": [
    {
     "data": {
      "text/plain": [
       "29.923"
      ]
     },
     "execution_count": 141,
     "metadata": {},
     "output_type": "execute_result"
    }
   ],
   "source": [
    "# Print percentage of missing nulls in Bath\n",
    "percent_missing(df,\"SaleCondition\")"
   ]
  },
  {
   "cell_type": "code",
   "execution_count": 142,
   "metadata": {
    "collapsed": true
   },
   "outputs": [],
   "source": [
    "# For df: \n",
    "df = pd.get_dummies(df,columns=[\"SaleCondition\"],drop_first=False)\n",
    "# For train: \n",
    "train = pd.get_dummies(train,columns=[\"SaleCondition\"],drop_first=False)"
   ]
  },
  {
   "cell_type": "markdown",
   "metadata": {},
   "source": [
    "### M. MS"
   ]
  },
  {
   "cell_type": "markdown",
   "metadata": {},
   "source": [
    "#### I. Inspect"
   ]
  },
  {
   "cell_type": "code",
   "execution_count": 143,
   "metadata": {},
   "outputs": [
    {
     "data": {
      "text/html": [
       "<div>\n",
       "<style>\n",
       "    .dataframe thead tr:only-child th {\n",
       "        text-align: right;\n",
       "    }\n",
       "\n",
       "    .dataframe thead th {\n",
       "        text-align: left;\n",
       "    }\n",
       "\n",
       "    .dataframe tbody tr th {\n",
       "        vertical-align: top;\n",
       "    }\n",
       "</style>\n",
       "<table border=\"1\" class=\"dataframe\">\n",
       "  <thead>\n",
       "    <tr style=\"text-align: right;\">\n",
       "      <th></th>\n",
       "      <th>MSSubClass</th>\n",
       "      <th>MSZoning</th>\n",
       "      <th>MasVnrArea</th>\n",
       "      <th>MasVnrType</th>\n",
       "    </tr>\n",
       "  </thead>\n",
       "  <tbody>\n",
       "    <tr>\n",
       "      <th>0</th>\n",
       "      <td>60</td>\n",
       "      <td>RL</td>\n",
       "      <td>289.0</td>\n",
       "      <td>BrkFace</td>\n",
       "    </tr>\n",
       "    <tr>\n",
       "      <th>1</th>\n",
       "      <td>60</td>\n",
       "      <td>RL</td>\n",
       "      <td>132.0</td>\n",
       "      <td>BrkFace</td>\n",
       "    </tr>\n",
       "  </tbody>\n",
       "</table>\n",
       "</div>"
      ],
      "text/plain": [
       "   MSSubClass MSZoning  MasVnrArea MasVnrType\n",
       "0          60       RL       289.0    BrkFace\n",
       "1          60       RL       132.0    BrkFace"
      ]
     },
     "execution_count": 143,
     "metadata": {},
     "output_type": "execute_result"
    }
   ],
   "source": [
    "# Filter columns that contain MS,Mas\n",
    "mas_filter = df[df.columns[(df.columns.to_series().str.contains('MS'))\\\n",
    "                                |(df.columns.to_series().str.contains('Mas'))]]\n",
    "# Prints a dataframe with columns containing MS,Mas\n",
    "mas_filter.head(2)"
   ]
  },
  {
   "cell_type": "code",
   "execution_count": 144,
   "metadata": {},
   "outputs": [
    {
     "name": "stdout",
     "output_type": "stream",
     "text": [
      "['RL' 'RM' 'FV' 'C (all)' 'A (agr)' 'RH' 'I (all)']\n"
     ]
    }
   ],
   "source": [
    "view_unique_cat(\"MSZoning\")"
   ]
  },
  {
   "cell_type": "code",
   "execution_count": 145,
   "metadata": {
    "collapsed": true
   },
   "outputs": [],
   "source": [
    "# For df: \n",
    "df = pd.get_dummies(df,columns=[\"MSZoning\"],drop_first=False)\n",
    "# For train: \n",
    "train = pd.get_dummies(train,columns=[\"MSZoning\"],drop_first=False)\n",
    "# For test: \n",
    "test = pd.get_dummies(test,columns=[\"MSZoning\"],drop_first=False)"
   ]
  },
  {
   "cell_type": "markdown",
   "metadata": {},
   "source": [
    "#### II. Fill Missing Values"
   ]
  },
  {
   "cell_type": "code",
   "execution_count": 146,
   "metadata": {
    "collapsed": true
   },
   "outputs": [],
   "source": [
    "# Create a for loop to fill in columns for each given DataFrame\n",
    "frames = [df, train, test] # List of DataFrames\n",
    "for _ in frames: #Loop through the list\n",
    "    _.MasVnrArea.fillna(0,axis=0,inplace = True)"
   ]
  },
  {
   "cell_type": "code",
   "execution_count": 147,
   "metadata": {
    "collapsed": true
   },
   "outputs": [],
   "source": [
    "# Create a for loop to fill in columns for each given DataFrame\n",
    "frames = [df, train, test] # List of DataFrames\n",
    "for _ in frames: #Loop through the list\n",
    "    _.MasVnrType.fillna('Na',axis=0,inplace = True)"
   ]
  },
  {
   "cell_type": "code",
   "execution_count": 148,
   "metadata": {
    "collapsed": true
   },
   "outputs": [],
   "source": [
    "# For df: \n",
    "df = pd.get_dummies(df,columns=[\"MasVnrType\"],drop_first=False)\n",
    "# For train: \n",
    "train = pd.get_dummies(train,columns=[\"MasVnrType\"],drop_first=False)\n",
    "# For test: \n",
    "test = pd.get_dummies(test,columns=[\"MasVnrType\"],drop_first=False)"
   ]
  },
  {
   "cell_type": "markdown",
   "metadata": {},
   "source": [
    "### O. Exterior"
   ]
  },
  {
   "cell_type": "markdown",
   "metadata": {},
   "source": [
    "#### I. Inspect"
   ]
  },
  {
   "cell_type": "code",
   "execution_count": 149,
   "metadata": {},
   "outputs": [
    {
     "data": {
      "text/html": [
       "<div>\n",
       "<style>\n",
       "    .dataframe thead tr:only-child th {\n",
       "        text-align: right;\n",
       "    }\n",
       "\n",
       "    .dataframe thead th {\n",
       "        text-align: left;\n",
       "    }\n",
       "\n",
       "    .dataframe tbody tr th {\n",
       "        vertical-align: top;\n",
       "    }\n",
       "</style>\n",
       "<table border=\"1\" class=\"dataframe\">\n",
       "  <thead>\n",
       "    <tr style=\"text-align: right;\">\n",
       "      <th></th>\n",
       "      <th>ExterCond</th>\n",
       "      <th>ExterQual</th>\n",
       "      <th>Exterior1st</th>\n",
       "      <th>Exterior2nd</th>\n",
       "    </tr>\n",
       "  </thead>\n",
       "  <tbody>\n",
       "    <tr>\n",
       "      <th>0</th>\n",
       "      <td>3</td>\n",
       "      <td>4</td>\n",
       "      <td>HdBoard</td>\n",
       "      <td>Plywood</td>\n",
       "    </tr>\n",
       "    <tr>\n",
       "      <th>1</th>\n",
       "      <td>3</td>\n",
       "      <td>4</td>\n",
       "      <td>VinylSd</td>\n",
       "      <td>VinylSd</td>\n",
       "    </tr>\n",
       "  </tbody>\n",
       "</table>\n",
       "</div>"
      ],
      "text/plain": [
       "   ExterCond  ExterQual Exterior1st Exterior2nd\n",
       "0          3          4     HdBoard     Plywood\n",
       "1          3          4     VinylSd     VinylSd"
      ]
     },
     "execution_count": 149,
     "metadata": {},
     "output_type": "execute_result"
    }
   ],
   "source": [
    "# Filter columns that contain Exterior,Exter\n",
    "exterior_filter = df[df.columns[(df.columns.to_series().str.contains('Exterior'))\\\n",
    "                                |(df.columns.to_series().str.contains('Exter'))]]\n",
    "# Prints a dataframe with columns containing exterior\n",
    "exterior_filter.head(2)"
   ]
  },
  {
   "cell_type": "code",
   "execution_count": 150,
   "metadata": {
    "collapsed": true
   },
   "outputs": [],
   "source": [
    "# Create a for loop to drop redundant columns for each given DataFrame\n",
    "frames = [df, train, test] # List of DataFrames\n",
    "for _ in frames: #Loop through the list\n",
    "    drop_redundants(_,[\"Exterior2nd\"])"
   ]
  },
  {
   "cell_type": "code",
   "execution_count": 151,
   "metadata": {
    "collapsed": true
   },
   "outputs": [],
   "source": [
    "# For df: \n",
    "df = pd.get_dummies(df,columns=[\"Exterior1st\"],drop_first=False)\n",
    "# For train: \n",
    "train = pd.get_dummies(train,columns=[\"Exterior1st\"],drop_first=False)\n",
    "# For test: \n",
    "test = pd.get_dummies(test,columns=[\"Exterior1st\"],drop_first=False)"
   ]
  },
  {
   "cell_type": "markdown",
   "metadata": {},
   "source": [
    "## 6. Inspect Remaining "
   ]
  },
  {
   "cell_type": "markdown",
   "metadata": {},
   "source": [
    "### A. Missing Values"
   ]
  },
  {
   "cell_type": "code",
   "execution_count": 152,
   "metadata": {},
   "outputs": [
    {
     "name": "stdout",
     "output_type": "stream",
     "text": [
      "Percentage of missing data:\n",
      "Alley : 2679 values missing which is 93.215 % of total dataframe.\n",
      "Electrical : 1 values missing which is 0.035 % of total dataframe.\n",
      "Fence : 2314 values missing which is 80.515 % of total dataframe.\n",
      "MiscFeature : 2774 values missing which is 96.521 % of total dataframe.\n",
      "SalePrice : 860 values missing which is 29.923 % of total dataframe.\n"
     ]
    }
   ],
   "source": [
    "percent_missing_data(df)"
   ]
  },
  {
   "cell_type": "code",
   "execution_count": 153,
   "metadata": {
    "collapsed": true
   },
   "outputs": [],
   "source": [
    "# Create a for loop to drop columns for each given DataFrame\n",
    "frames = [df, train, test] # List of DataFrames\n",
    "for _ in frames: #Loop through the list\n",
    "    drop_redundants(_,[\"MiscFeature\",\"Alley\",\"Fence\"])"
   ]
  },
  {
   "cell_type": "code",
   "execution_count": 154,
   "metadata": {},
   "outputs": [
    {
     "name": "stdout",
     "output_type": "stream",
     "text": [
      "Display part of DataFrame:\n",
      "\n",
      "  Electrical\n",
      "0      SBrkr\n",
      "1      SBrkr\n",
      "==============================================================\n",
      "Description:\n",
      "\n",
      "       Electrical\n",
      "count        2873\n",
      "unique          5\n",
      "top         SBrkr\n",
      "freq         2630\n",
      "==============================================================\n",
      "Data Types:\n",
      "\n",
      "Electrical    object\n",
      "dtype: object\n",
      "==============================================================\n",
      "Number of Null Values:\n",
      "\n",
      "Electrical    1\n",
      "dtype: int64\n",
      "==============================================================\n"
     ]
    }
   ],
   "source": [
    "column_inspection(\"Electrical\")"
   ]
  },
  {
   "cell_type": "code",
   "execution_count": 155,
   "metadata": {
    "collapsed": true
   },
   "outputs": [],
   "source": [
    "# Create a for loop to fill in columns for each given DataFrame\n",
    "frames = [df, train, test] # List of DataFrames\n",
    "for _ in frames: #Loop through the list\n",
    "    _.Electrical.fillna('SBrkr',axis=0,inplace = True)"
   ]
  },
  {
   "cell_type": "code",
   "execution_count": 156,
   "metadata": {
    "collapsed": true
   },
   "outputs": [],
   "source": [
    "# For df: \n",
    "df = pd.get_dummies(df,columns=[\"Electrical\"],drop_first=False)\n",
    "# For train: \n",
    "train = pd.get_dummies(train,columns=[\"Electrical\"],drop_first=False)\n",
    "# For test: \n",
    "test = pd.get_dummies(test,columns=[\"Electrical\"],drop_first=False)"
   ]
  },
  {
   "cell_type": "markdown",
   "metadata": {},
   "source": [
    "### B. Dummy Variables"
   ]
  },
  {
   "cell_type": "code",
   "execution_count": 157,
   "metadata": {
    "collapsed": true
   },
   "outputs": [],
   "source": [
    "# Select all categoricals \n",
    "categorical_names = df.select_dtypes(include=['object']).columns.tolist()"
   ]
  },
  {
   "cell_type": "code",
   "execution_count": 158,
   "metadata": {},
   "outputs": [
    {
     "data": {
      "text/plain": [
       "['BldgType',\n",
       " 'CentralAir',\n",
       " 'Foundation',\n",
       " 'Functional',\n",
       " 'HouseStyle',\n",
       " 'Neighborhood',\n",
       " 'PavedDrive',\n",
       " 'SaleType',\n",
       " 'Street',\n",
       " 'Utilities']"
      ]
     },
     "execution_count": 158,
     "metadata": {},
     "output_type": "execute_result"
    }
   ],
   "source": [
    "categorical_names"
   ]
  },
  {
   "cell_type": "code",
   "execution_count": 159,
   "metadata": {},
   "outputs": [
    {
     "name": "stdout",
     "output_type": "stream",
     "text": [
      "BldgType :\n",
      "['1Fam' 'TwnhsE' 'Twnhs' '2fmCon' 'Duplex']\n",
      "_______________________________________________\n",
      "CentralAir :\n",
      "['Y' 'N']\n",
      "_______________________________________________\n",
      "Foundation :\n",
      "['CBlock' 'PConc' 'BrkTil' 'Slab' 'Stone' 'Wood']\n",
      "_______________________________________________\n",
      "Functional :\n",
      "['Typ' 'Mod' 'Min2' 'Maj1' 'Min1' 'Sev' 'Sal' 'Maj2']\n",
      "_______________________________________________\n",
      "HouseStyle :\n",
      "['2Story' '1Story' '1.5Fin' 'SFoyer' 'SLvl' '2.5Unf' '2.5Fin' '1.5Unf']\n",
      "_______________________________________________\n",
      "Neighborhood :\n",
      "['Sawyer' 'SawyerW' 'NAmes' 'Timber' 'Edwards' 'OldTown' 'BrDale'\n",
      " 'CollgCr' 'Somerst' 'Mitchel' 'StoneBr' 'NridgHt' 'Gilbert' 'Crawfor'\n",
      " 'IDOTRR' 'NWAmes' 'Veenker' 'MeadowV' 'SWISU' 'NoRidge' 'ClearCr'\n",
      " 'Blmngtn' 'BrkSide' 'NPkVill' 'Blueste' 'GrnHill' 'Greens' 'Landmrk']\n",
      "_______________________________________________\n",
      "PavedDrive :\n",
      "['Y' 'N' 'P']\n",
      "_______________________________________________\n",
      "SaleType :\n",
      "['WD ' 'New' 'COD' 'ConLD' 'Con' 'CWD' 'Oth' 'ConLI' 'ConLw' 'VWD']\n",
      "_______________________________________________\n",
      "Street :\n",
      "['Pave' 'Grvl']\n",
      "_______________________________________________\n",
      "Utilities :\n",
      "['AllPub' 'NoSeWa' 'NoSewr']\n",
      "_______________________________________________\n"
     ]
    }
   ],
   "source": [
    "for _ in categorical_names:\n",
    "    print(\"%s\"%str(_),\":\")\n",
    "    view_unique_cat(_)\n",
    "    print(\"_______________________________________________\")"
   ]
  },
  {
   "cell_type": "code",
   "execution_count": 160,
   "metadata": {
    "collapsed": true
   },
   "outputs": [],
   "source": [
    "# For df: \n",
    "df = pd.get_dummies(df,columns=categorical_names,drop_first=False)\n",
    "# For train: \n",
    "train = pd.get_dummies(train,columns=categorical_names,drop_first=False)\n",
    "# For test: \n",
    "test = pd.get_dummies(test,columns=categorical_names,drop_first=False)"
   ]
  },
  {
   "cell_type": "markdown",
   "metadata": {},
   "source": [
    "## 7. Save the Cleaned DataFrames"
   ]
  },
  {
   "cell_type": "code",
   "execution_count": 161,
   "metadata": {
    "collapsed": true
   },
   "outputs": [],
   "source": [
    "# Save cleaned df\n",
    "df.to_csv(\"../Datasets/cleaned_df.csv\",index=None)\n",
    "# Save cleaned train\n",
    "train.to_csv(\"../Datasets/cleaned_train.csv\",index=None)\n",
    "# Save cleaned test\n",
    "test.to_csv(\"../Datasets/cleaned_test.csv\",index=None)"
   ]
  }
 ],
 "metadata": {
  "kernelspec": {
   "display_name": "Python 3",
   "language": "python",
   "name": "python3"
  },
  "language_info": {
   "codemirror_mode": {
    "name": "ipython",
    "version": 3
   },
   "file_extension": ".py",
   "mimetype": "text/x-python",
   "name": "python",
   "nbconvert_exporter": "python",
   "pygments_lexer": "ipython3",
   "version": "3.6.3"
  }
 },
 "nbformat": 4,
 "nbformat_minor": 2
}
